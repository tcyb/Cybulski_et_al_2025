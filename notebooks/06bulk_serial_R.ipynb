{
 "cells": [
  {
   "cell_type": "code",
   "execution_count": 1,
   "id": "27405a05",
   "metadata": {
    "scrolled": true
   },
   "outputs": [
    {
     "name": "stderr",
     "output_type": "stream",
     "text": [
      "Loading required package: S4Vectors\n",
      "\n",
      "Loading required package: stats4\n",
      "\n",
      "Loading required package: BiocGenerics\n",
      "\n",
      "\n",
      "Attaching package: ‘BiocGenerics’\n",
      "\n",
      "\n",
      "The following objects are masked from ‘package:stats’:\n",
      "\n",
      "    IQR, mad, sd, var, xtabs\n",
      "\n",
      "\n",
      "The following objects are masked from ‘package:base’:\n",
      "\n",
      "    anyDuplicated, aperm, append, as.data.frame, basename, cbind,\n",
      "    colnames, dirname, do.call, duplicated, eval, evalq, Filter, Find,\n",
      "    get, grep, grepl, intersect, is.unsorted, lapply, Map, mapply,\n",
      "    match, mget, order, paste, pmax, pmax.int, pmin, pmin.int,\n",
      "    Position, rank, rbind, Reduce, rownames, sapply, setdiff, sort,\n",
      "    table, tapply, union, unique, unsplit, which.max, which.min\n",
      "\n",
      "\n",
      "\n",
      "Attaching package: ‘S4Vectors’\n",
      "\n",
      "\n",
      "The following objects are masked from ‘package:base’:\n",
      "\n",
      "    expand.grid, I, unname\n",
      "\n",
      "\n",
      "Loading required package: IRanges\n",
      "\n",
      "Loading required package: GenomicRanges\n",
      "\n",
      "Loading required package: GenomeInfoDb\n",
      "\n",
      "Loading required package: SummarizedExperiment\n",
      "\n",
      "Loading required package: MatrixGenerics\n",
      "\n",
      "Loading required package: matrixStats\n",
      "\n",
      "\n",
      "Attaching package: ‘MatrixGenerics’\n",
      "\n",
      "\n",
      "The following objects are masked from ‘package:matrixStats’:\n",
      "\n",
      "    colAlls, colAnyNAs, colAnys, colAvgsPerRowSet, colCollapse,\n",
      "    colCounts, colCummaxs, colCummins, colCumprods, colCumsums,\n",
      "    colDiffs, colIQRDiffs, colIQRs, colLogSumExps, colMadDiffs,\n",
      "    colMads, colMaxs, colMeans2, colMedians, colMins, colOrderStats,\n",
      "    colProds, colQuantiles, colRanges, colRanks, colSdDiffs, colSds,\n",
      "    colSums2, colTabulates, colVarDiffs, colVars, colWeightedMads,\n",
      "    colWeightedMeans, colWeightedMedians, colWeightedSds,\n",
      "    colWeightedVars, rowAlls, rowAnyNAs, rowAnys, rowAvgsPerColSet,\n",
      "    rowCollapse, rowCounts, rowCummaxs, rowCummins, rowCumprods,\n",
      "    rowCumsums, rowDiffs, rowIQRDiffs, rowIQRs, rowLogSumExps,\n",
      "    rowMadDiffs, rowMads, rowMaxs, rowMeans2, rowMedians, rowMins,\n",
      "    rowOrderStats, rowProds, rowQuantiles, rowRanges, rowRanks,\n",
      "    rowSdDiffs, rowSds, rowSums2, rowTabulates, rowVarDiffs, rowVars,\n",
      "    rowWeightedMads, rowWeightedMeans, rowWeightedMedians,\n",
      "    rowWeightedSds, rowWeightedVars\n",
      "\n",
      "\n",
      "Loading required package: Biobase\n",
      "\n",
      "Welcome to Bioconductor\n",
      "\n",
      "    Vignettes contain introductory material; view with\n",
      "    'browseVignettes()'. To cite Bioconductor, see\n",
      "    'citation(\"Biobase\")', and for packages 'citation(\"pkgname\")'.\n",
      "\n",
      "\n",
      "\n",
      "Attaching package: ‘Biobase’\n",
      "\n",
      "\n",
      "The following object is masked from ‘package:MatrixGenerics’:\n",
      "\n",
      "    rowMedians\n",
      "\n",
      "\n",
      "The following objects are masked from ‘package:matrixStats’:\n",
      "\n",
      "    anyMissing, rowMedians\n",
      "\n",
      "\n",
      "\n",
      "\n",
      "Registered S3 methods overwritten by 'treeio':\n",
      "  method              from    \n",
      "  MRCA.phylo          tidytree\n",
      "  MRCA.treedata       tidytree\n",
      "  Nnode.treedata      tidytree\n",
      "  Ntip.treedata       tidytree\n",
      "  ancestor.phylo      tidytree\n",
      "  ancestor.treedata   tidytree\n",
      "  child.phylo         tidytree\n",
      "  child.treedata      tidytree\n",
      "  full_join.phylo     tidytree\n",
      "  full_join.treedata  tidytree\n",
      "  groupClade.phylo    tidytree\n",
      "  groupClade.treedata tidytree\n",
      "  groupOTU.phylo      tidytree\n",
      "  groupOTU.treedata   tidytree\n",
      "  is.rooted.treedata  tidytree\n",
      "  nodeid.phylo        tidytree\n",
      "  nodeid.treedata     tidytree\n",
      "  nodelab.phylo       tidytree\n",
      "  nodelab.treedata    tidytree\n",
      "  offspring.phylo     tidytree\n",
      "  offspring.treedata  tidytree\n",
      "  parent.phylo        tidytree\n",
      "  parent.treedata     tidytree\n",
      "  root.treedata       tidytree\n",
      "  rootnode.phylo      tidytree\n",
      "  sibling.phylo       tidytree\n",
      "\n",
      "clusterProfiler v4.6.0  For help: https://yulab-smu.top/biomedical-knowledge-mining-book/\n",
      "\n",
      "If you use clusterProfiler in published research, please cite:\n",
      "T Wu, E Hu, S Xu, M Chen, P Guo, Z Dai, T Feng, L Zhou, W Tang, L Zhan, X Fu, S Liu, X Bo, and G Yu. clusterProfiler 4.0: A universal enrichment tool for interpreting omics data. The Innovation. 2021, 2(3):100141\n",
      "\n",
      "\n",
      "Attaching package: ‘clusterProfiler’\n",
      "\n",
      "\n",
      "The following object is masked from ‘package:IRanges’:\n",
      "\n",
      "    slice\n",
      "\n",
      "\n",
      "The following object is masked from ‘package:S4Vectors’:\n",
      "\n",
      "    rename\n",
      "\n",
      "\n",
      "The following object is masked from ‘package:stats’:\n",
      "\n",
      "    filter\n",
      "\n",
      "\n",
      "Loading required package: AnnotationDbi\n",
      "\n",
      "\n",
      "Attaching package: ‘AnnotationDbi’\n",
      "\n",
      "\n",
      "The following object is masked from ‘package:clusterProfiler’:\n",
      "\n",
      "    select\n",
      "\n",
      "\n",
      "\n",
      "\n",
      "Loading required package: limma\n",
      "\n",
      "\n",
      "Attaching package: ‘limma’\n",
      "\n",
      "\n",
      "The following object is masked from ‘package:DESeq2’:\n",
      "\n",
      "    plotMA\n",
      "\n",
      "\n",
      "The following object is masked from ‘package:BiocGenerics’:\n",
      "\n",
      "    plotMA\n",
      "\n",
      "\n",
      "Loading required package: BiocParallel\n",
      "\n",
      "\n",
      "Attaching package: ‘variancePartition’\n",
      "\n",
      "\n",
      "The following object is masked from ‘package:limma’:\n",
      "\n",
      "    topTable\n",
      "\n",
      "\n",
      "── \u001b[1mAttaching core tidyverse packages\u001b[22m ──────────────────────── tidyverse 2.0.0 ──\n",
      "\u001b[32m✔\u001b[39m \u001b[34mdplyr    \u001b[39m 1.1.4     \u001b[32m✔\u001b[39m \u001b[34mreadr    \u001b[39m 2.1.5\n",
      "\u001b[32m✔\u001b[39m \u001b[34mforcats  \u001b[39m 1.0.0     \u001b[32m✔\u001b[39m \u001b[34mstringr  \u001b[39m 1.5.1\n",
      "\u001b[32m✔\u001b[39m \u001b[34mlubridate\u001b[39m 1.9.3     \u001b[32m✔\u001b[39m \u001b[34mtibble   \u001b[39m 3.2.1\n",
      "\u001b[32m✔\u001b[39m \u001b[34mpurrr    \u001b[39m 1.0.2     \u001b[32m✔\u001b[39m \u001b[34mtidyr    \u001b[39m 1.3.1\n",
      "── \u001b[1mConflicts\u001b[22m ────────────────────────────────────────── tidyverse_conflicts() ──\n",
      "\u001b[31m✖\u001b[39m \u001b[34mlubridate\u001b[39m::\u001b[32m%within%()\u001b[39m masks \u001b[34mIRanges\u001b[39m::%within%()\n",
      "\u001b[31m✖\u001b[39m \u001b[34mdplyr\u001b[39m::\u001b[32mcollapse()\u001b[39m     masks \u001b[34mIRanges\u001b[39m::collapse()\n",
      "\u001b[31m✖\u001b[39m \u001b[34mdplyr\u001b[39m::\u001b[32mcombine()\u001b[39m      masks \u001b[34mBiobase\u001b[39m::combine(), \u001b[34mBiocGenerics\u001b[39m::combine()\n",
      "\u001b[31m✖\u001b[39m \u001b[34mdplyr\u001b[39m::\u001b[32mcount()\u001b[39m        masks \u001b[34mmatrixStats\u001b[39m::count()\n",
      "\u001b[31m✖\u001b[39m \u001b[34mdplyr\u001b[39m::\u001b[32mdesc()\u001b[39m         masks \u001b[34mIRanges\u001b[39m::desc()\n",
      "\u001b[31m✖\u001b[39m \u001b[34mtidyr\u001b[39m::\u001b[32mexpand()\u001b[39m       masks \u001b[34mS4Vectors\u001b[39m::expand()\n",
      "\u001b[31m✖\u001b[39m \u001b[34mdplyr\u001b[39m::\u001b[32mfilter()\u001b[39m       masks \u001b[34mclusterProfiler\u001b[39m::filter(), \u001b[34mstats\u001b[39m::filter()\n",
      "\u001b[31m✖\u001b[39m \u001b[34mdplyr\u001b[39m::\u001b[32mfirst()\u001b[39m        masks \u001b[34mS4Vectors\u001b[39m::first()\n",
      "\u001b[31m✖\u001b[39m \u001b[34mdplyr\u001b[39m::\u001b[32mlag()\u001b[39m          masks \u001b[34mstats\u001b[39m::lag()\n",
      "\u001b[31m✖\u001b[39m \u001b[34mggplot2\u001b[39m::\u001b[32mPosition()\u001b[39m   masks \u001b[34mBiocGenerics\u001b[39m::Position(), \u001b[34mbase\u001b[39m::Position()\n",
      "\u001b[31m✖\u001b[39m \u001b[34mpurrr\u001b[39m::\u001b[32mreduce()\u001b[39m       masks \u001b[34mGenomicRanges\u001b[39m::reduce(), \u001b[34mIRanges\u001b[39m::reduce()\n",
      "\u001b[31m✖\u001b[39m \u001b[34mdplyr\u001b[39m::\u001b[32mrename()\u001b[39m       masks \u001b[34mclusterProfiler\u001b[39m::rename(), \u001b[34mS4Vectors\u001b[39m::rename()\n",
      "\u001b[31m✖\u001b[39m \u001b[34mlubridate\u001b[39m::\u001b[32msecond()\u001b[39m   masks \u001b[34mS4Vectors\u001b[39m::second()\n",
      "\u001b[31m✖\u001b[39m \u001b[34mlubridate\u001b[39m::\u001b[32msecond<-()\u001b[39m masks \u001b[34mS4Vectors\u001b[39m::second<-()\n",
      "\u001b[31m✖\u001b[39m \u001b[34mdplyr\u001b[39m::\u001b[32mselect()\u001b[39m       masks \u001b[34mAnnotationDbi\u001b[39m::select(), \u001b[34mclusterProfiler\u001b[39m::select()\n",
      "\u001b[31m✖\u001b[39m \u001b[34mpurrr\u001b[39m::\u001b[32msimplify()\u001b[39m     masks \u001b[34mclusterProfiler\u001b[39m::simplify()\n",
      "\u001b[31m✖\u001b[39m \u001b[34mdplyr\u001b[39m::\u001b[32mslice()\u001b[39m        masks \u001b[34mclusterProfiler\u001b[39m::slice(), \u001b[34mIRanges\u001b[39m::slice()\n",
      "\u001b[36mℹ\u001b[39m Use the conflicted package (\u001b[3m\u001b[34m<http://conflicted.r-lib.org/>\u001b[39m\u001b[23m) to force all conflicts to become errors\n"
     ]
    }
   ],
   "source": [
    "library(DESeq2)\n",
    "library(tximport)\n",
    "library(ggplot2)\n",
    "library(ggrepel)\n",
    "library(pheatmap)\n",
    "library(ggthemes)\n",
    "library(clusterProfiler)\n",
    "library(enrichplot)\n",
    "library(\"org.Hs.eg.db\")\n",
    "library(variancePartition)\n",
    "\n",
    "library(tidyverse)"
   ]
  },
  {
   "cell_type": "code",
   "execution_count": 2,
   "id": "a718470e",
   "metadata": {},
   "outputs": [],
   "source": [
    "plotPCA_manual = function(object, \n",
    "                          intgroup=\"condition\", #essentially ignored if merge_metadata = TRUE\n",
    "                          ntop=500, \n",
    "                          pcs = 2,\n",
    "                          merge_metadata = FALSE,\n",
    "                          return_loadings = FALSE,\n",
    "                          mart_name = \"mmusculus\",\n",
    "                          custom_annotation = NULL)\n",
    "{\n",
    "#   require(tidyverse)\n",
    "  \n",
    "  # calculate the variance for each gene\n",
    "  rv <- rowVars(assay(object), useNames=TRUE)\n",
    "  \n",
    "  # select the ntop genes by variance\n",
    "  select <- order(rv, decreasing=TRUE)[seq_len(min(ntop, length(rv)))]\n",
    "  \n",
    "  # perform a PCA on the data in assay(x) for the selected genes\n",
    "  pca <- prcomp(t(assay(object)[select,]))\n",
    "  \n",
    "  # the contribution to the total variance for each component\n",
    "  percentVar <- pca$sdev^2 / sum( pca$sdev^2 )\n",
    "  \n",
    "  if (!all(intgroup %in% names(colData(object)))) {\n",
    "    stop(\"the argument 'intgroup' should specify columns of colData(dds)\")\n",
    "  }\n",
    "  \n",
    "  intgroup.df <- as.data.frame(colData(object)[, intgroup, drop=FALSE])\n",
    "  \n",
    "  # add the intgroup factors together to create a new grouping factor\n",
    "  group <- if (length(intgroup) > 1) {\n",
    "    factor(apply( intgroup.df, 1, paste, collapse=\":\"))\n",
    "  } else {\n",
    "    colData(object)[[intgroup]]\n",
    "  }\n",
    "  \n",
    "  # assemble the data for the plot\n",
    "  d <- data.frame(group=group, intgroup.df, name=colnames(object))\n",
    "  tmp = pca$x[, 1:pcs]\n",
    "  colnames(tmp) = paste0(\"PC\", 1:pcs)\n",
    "  d = cbind(tmp, d)\n",
    "  attr(d, \"percentVar\") <- percentVar[1:pcs]\n",
    "  \n",
    "  if(merge_metadata == TRUE)\n",
    "  {\n",
    "    md = colData(object) %>% \n",
    "      as.data.frame() %>% \n",
    "      rownames_to_column(\"sample\")\n",
    "    d = d %>% \n",
    "      dplyr::select(-group) %>% \n",
    "      dplyr::rename(sample = name) %>% \n",
    "      left_join(., md) %>% \n",
    "      column_to_rownames(\"sample\")\n",
    "  }\n",
    "      \n",
    "  \n",
    "  plt = ggplot(data=d, aes_string(x=\"PC1\", y=\"PC2\", color=group)) + geom_point(size=3) + \n",
    "    xlab(paste0(\"PC1: \",round(percentVar[1] * 100),\"% variance\")) +\n",
    "    ylab(paste0(\"PC2: \",round(percentVar[2] * 100),\"% variance\")) +\n",
    "    coord_fixed()\n",
    "  \n",
    "  #if requested, return loadings in human-readable format\n",
    "  if(return_loadings == TRUE)\n",
    "  {\n",
    "    if(is.null(custom_annotation))\n",
    "    {\n",
    "      require(biomaRt)\n",
    "      mart = useMart(\"ensembl\", paste0(mart_name, \"_gene_ensembl\"))\n",
    "      conv = getBM(attributes = c(\"ensembl_gene_id\", \"external_gene_name\"),\n",
    "                   mart = mart)\n",
    "    } else\n",
    "    {\n",
    "      conv = custom_annotation\n",
    "    }\n",
    "    \n",
    "    loadings = pca$rotation %>% \n",
    "      as.data.frame() %>% \n",
    "      rownames_to_column(\"ensembl_gene_id\") %>% \n",
    "      left_join(., conv) %>% \n",
    "      dplyr::relocate(ensembl_gene_id, external_gene_name) %>% \n",
    "      arrange(desc(PC1))\n",
    "  } else\n",
    "  {\n",
    "    loadings = NULL\n",
    "  }\n",
    "  \n",
    "  #output percent variance for each PC as a tidy data frame\n",
    "  percent_var = data.frame(component = 1:pcs, percent_var = round(percentVar[1:pcs] * 100))\n",
    "  \n",
    "  return(list(pca = pca, data = d, plot = plt, loadings = loadings, percent_var = percent_var))\n",
    "}"
   ]
  },
  {
   "cell_type": "code",
   "execution_count": 3,
   "id": "710435de",
   "metadata": {},
   "outputs": [],
   "source": [
    "fig2.data.dir = \"/home/trc891/projects/cyb/2022-CFnose/data/12sala_serial\"\n",
    "fig2.out.dir = \"/home/trc891/projects/cyb/2022-CFnose/data/10paper_figures/fig3\""
   ]
  },
  {
   "cell_type": "code",
   "execution_count": 4,
   "id": "959e1295",
   "metadata": {},
   "outputs": [],
   "source": [
    "data <- read.table(file.path(fig2.data.dir, \"htseq.all.counts.txt\"), sep='\\t', header=TRUE)\n",
    "data <- dplyr::select(data, -c(Chr, Start, End, Length, Strand))\n",
    "data <- data / 2 # per Marc, gene counts are doubled\n",
    "ensemblids <- rownames(data)\n",
    "#annots <- AnnotationDbi::select(org.Hs.eg.db, keys=as.vector(ensemblids), columns=\"SYMBOL\", keytype=\"ENSEMBL\")\n",
    "\n",
    "data.noctrl <- dplyr::select(data, -c(uhrna1, uhrna2))"
   ]
  },
  {
   "cell_type": "code",
   "execution_count": 5,
   "id": "0c19de82",
   "metadata": {},
   "outputs": [
    {
     "data": {
      "text/html": [
       "<table class=\"dataframe\">\n",
       "<caption>A data.frame: 46 × 3</caption>\n",
       "<thead>\n",
       "\t<tr><th></th><th scope=col>subj</th><th scope=col>condition</th><th scope=col>v</th></tr>\n",
       "\t<tr><th></th><th scope=col>&lt;fct&gt;</th><th scope=col>&lt;fct&gt;</th><th scope=col>&lt;fct&gt;</th></tr>\n",
       "</thead>\n",
       "<tbody>\n",
       "\t<tr><th scope=row>CFNE2_CF10_CF003.1</th><td>CF003</td><td>CF</td><td>1 </td></tr>\n",
       "\t<tr><th scope=row>CFNE2_CF11_CF003.2</th><td>CF003</td><td>CF</td><td>2 </td></tr>\n",
       "\t<tr><th scope=row>CFNE2_CF12_CF004.1</th><td>CF004</td><td>CF</td><td>1 </td></tr>\n",
       "\t<tr><th scope=row>CFNE2_CF13_CF005.1</th><td>CF005</td><td>CF</td><td>1 </td></tr>\n",
       "\t<tr><th scope=row>CFNE2_CF14_CF006.1</th><td>CF006</td><td>CF</td><td>1 </td></tr>\n",
       "\t<tr><th scope=row>CFNE2_CF15_CF006.2</th><td>CF006</td><td>CF</td><td>2 </td></tr>\n",
       "\t<tr><th scope=row>CFNE2_CF16_CF006.3</th><td>CF006</td><td>CF</td><td>3 </td></tr>\n",
       "\t<tr><th scope=row>CFNE2_CF17_CF007.1</th><td>CF007</td><td>CF</td><td>1 </td></tr>\n",
       "\t<tr><th scope=row>CFNE2_CF18_CF007.2</th><td>CF007</td><td>CF</td><td>2 </td></tr>\n",
       "\t<tr><th scope=row>CFNE2_CF19_CF007.3</th><td>CF007</td><td>CF</td><td>3 </td></tr>\n",
       "\t<tr><th scope=row>CFNE2_CF1_1A.2</th><td>1A   </td><td>CF</td><td>1 </td></tr>\n",
       "\t<tr><th scope=row>CFNE2_CF20_CF008.1</th><td>CF008</td><td>CF</td><td>1 </td></tr>\n",
       "\t<tr><th scope=row>CFNE2_CF23_CF009.2</th><td>CF009</td><td>CF</td><td>2 </td></tr>\n",
       "\t<tr><th scope=row>CFNE2_CF26_CF011.2</th><td>CF011</td><td>CF</td><td>2 </td></tr>\n",
       "\t<tr><th scope=row>CFNE2_CF27_CF012.1</th><td>CF012</td><td>CF</td><td>1 </td></tr>\n",
       "\t<tr><th scope=row>CFNE2_CF28_CF012.2</th><td>CF012</td><td>CF</td><td>2 </td></tr>\n",
       "\t<tr><th scope=row>CFNE2_CF2_1A.3</th><td>1A   </td><td>CF</td><td>2 </td></tr>\n",
       "\t<tr><th scope=row>CFNE2_CF31_CF015.1</th><td>CF015</td><td>CF</td><td>1 </td></tr>\n",
       "\t<tr><th scope=row>CFNE2_CF35_CF018.1</th><td>CF018</td><td>CF</td><td>1 </td></tr>\n",
       "\t<tr><th scope=row>CFNE2_CF37_CF019.2</th><td>CF019</td><td>CF</td><td>2 </td></tr>\n",
       "\t<tr><th scope=row>CFNE2_CF39_CF020.2</th><td>CF020</td><td>CF</td><td>2 </td></tr>\n",
       "\t<tr><th scope=row>CFNE2_CF3_9A.2</th><td>9A   </td><td>CF</td><td>1 </td></tr>\n",
       "\t<tr><th scope=row>CFNE2_CF40_CF021.1</th><td>CF021</td><td>CF</td><td>1 </td></tr>\n",
       "\t<tr><th scope=row>CFNE2_CF41_CF022.1</th><td>CF022</td><td>CF</td><td>1 </td></tr>\n",
       "\t<tr><th scope=row>CFNE2_CF42_CF023.1</th><td>CF023</td><td>CF</td><td>1 </td></tr>\n",
       "\t<tr><th scope=row>CFNE2_CF43_CF024.1</th><td>CF024</td><td>CF</td><td>1 </td></tr>\n",
       "\t<tr><th scope=row>CFNE2_CF44_CF025.1</th><td>CF025</td><td>CF</td><td>1 </td></tr>\n",
       "\t<tr><th scope=row>CFNE2_CF45_CF026.1</th><td>CF026</td><td>CF</td><td>1 </td></tr>\n",
       "\t<tr><th scope=row>CFNE2_CF47_CF029.1</th><td>CF029</td><td>CF</td><td>1 </td></tr>\n",
       "\t<tr><th scope=row>CFNE2_CF4_10A.2</th><td>10A  </td><td>CF</td><td>1 </td></tr>\n",
       "\t<tr><th scope=row>CFNE2_CF5_10A.3</th><td>10A  </td><td>CF</td><td>2 </td></tr>\n",
       "\t<tr><th scope=row>CFNE2_CF6_CF028.1</th><td>CF028</td><td>CF</td><td>1 </td></tr>\n",
       "\t<tr><th scope=row>CFNE2_CF7_CF001.1</th><td>CF001</td><td>CF</td><td>1 </td></tr>\n",
       "\t<tr><th scope=row>CFNE2_CF8_CF002.1</th><td>CF002</td><td>CF</td><td>1 </td></tr>\n",
       "\t<tr><th scope=row>CFNE2_CF9_CF002.2</th><td>CF002</td><td>CF</td><td>2 </td></tr>\n",
       "\t<tr><th scope=row>CFNE2_N10_N010</th><td>N010 </td><td>HV</td><td>NA</td></tr>\n",
       "\t<tr><th scope=row>CFNE2_N11_N011</th><td>N011 </td><td>HV</td><td>NA</td></tr>\n",
       "\t<tr><th scope=row>CFNE2_N1_N001</th><td>N001 </td><td>HV</td><td>NA</td></tr>\n",
       "\t<tr><th scope=row>CFNE2_N2_N002</th><td>N002 </td><td>HV</td><td>NA</td></tr>\n",
       "\t<tr><th scope=row>CFNE2_N3_N003</th><td>N003 </td><td>HV</td><td>NA</td></tr>\n",
       "\t<tr><th scope=row>CFNE2_N4_N004</th><td>N004 </td><td>HV</td><td>NA</td></tr>\n",
       "\t<tr><th scope=row>CFNE2_N5_N005</th><td>N005 </td><td>HV</td><td>NA</td></tr>\n",
       "\t<tr><th scope=row>CFNE2_N6_N006</th><td>N006 </td><td>HV</td><td>NA</td></tr>\n",
       "\t<tr><th scope=row>CFNE2_N7_N007</th><td>N007 </td><td>HV</td><td>NA</td></tr>\n",
       "\t<tr><th scope=row>CFNE2_N8_N008</th><td>N008 </td><td>HV</td><td>NA</td></tr>\n",
       "\t<tr><th scope=row>CFNE2_N9_N009</th><td>N009 </td><td>HV</td><td>NA</td></tr>\n",
       "</tbody>\n",
       "</table>\n"
      ],
      "text/latex": [
       "A data.frame: 46 × 3\n",
       "\\begin{tabular}{r|lll}\n",
       "  & subj & condition & v\\\\\n",
       "  & <fct> & <fct> & <fct>\\\\\n",
       "\\hline\n",
       "\tCFNE2\\_CF10\\_CF003.1 & CF003 & CF & 1 \\\\\n",
       "\tCFNE2\\_CF11\\_CF003.2 & CF003 & CF & 2 \\\\\n",
       "\tCFNE2\\_CF12\\_CF004.1 & CF004 & CF & 1 \\\\\n",
       "\tCFNE2\\_CF13\\_CF005.1 & CF005 & CF & 1 \\\\\n",
       "\tCFNE2\\_CF14\\_CF006.1 & CF006 & CF & 1 \\\\\n",
       "\tCFNE2\\_CF15\\_CF006.2 & CF006 & CF & 2 \\\\\n",
       "\tCFNE2\\_CF16\\_CF006.3 & CF006 & CF & 3 \\\\\n",
       "\tCFNE2\\_CF17\\_CF007.1 & CF007 & CF & 1 \\\\\n",
       "\tCFNE2\\_CF18\\_CF007.2 & CF007 & CF & 2 \\\\\n",
       "\tCFNE2\\_CF19\\_CF007.3 & CF007 & CF & 3 \\\\\n",
       "\tCFNE2\\_CF1\\_1A.2 & 1A    & CF & 1 \\\\\n",
       "\tCFNE2\\_CF20\\_CF008.1 & CF008 & CF & 1 \\\\\n",
       "\tCFNE2\\_CF23\\_CF009.2 & CF009 & CF & 2 \\\\\n",
       "\tCFNE2\\_CF26\\_CF011.2 & CF011 & CF & 2 \\\\\n",
       "\tCFNE2\\_CF27\\_CF012.1 & CF012 & CF & 1 \\\\\n",
       "\tCFNE2\\_CF28\\_CF012.2 & CF012 & CF & 2 \\\\\n",
       "\tCFNE2\\_CF2\\_1A.3 & 1A    & CF & 2 \\\\\n",
       "\tCFNE2\\_CF31\\_CF015.1 & CF015 & CF & 1 \\\\\n",
       "\tCFNE2\\_CF35\\_CF018.1 & CF018 & CF & 1 \\\\\n",
       "\tCFNE2\\_CF37\\_CF019.2 & CF019 & CF & 2 \\\\\n",
       "\tCFNE2\\_CF39\\_CF020.2 & CF020 & CF & 2 \\\\\n",
       "\tCFNE2\\_CF3\\_9A.2 & 9A    & CF & 1 \\\\\n",
       "\tCFNE2\\_CF40\\_CF021.1 & CF021 & CF & 1 \\\\\n",
       "\tCFNE2\\_CF41\\_CF022.1 & CF022 & CF & 1 \\\\\n",
       "\tCFNE2\\_CF42\\_CF023.1 & CF023 & CF & 1 \\\\\n",
       "\tCFNE2\\_CF43\\_CF024.1 & CF024 & CF & 1 \\\\\n",
       "\tCFNE2\\_CF44\\_CF025.1 & CF025 & CF & 1 \\\\\n",
       "\tCFNE2\\_CF45\\_CF026.1 & CF026 & CF & 1 \\\\\n",
       "\tCFNE2\\_CF47\\_CF029.1 & CF029 & CF & 1 \\\\\n",
       "\tCFNE2\\_CF4\\_10A.2 & 10A   & CF & 1 \\\\\n",
       "\tCFNE2\\_CF5\\_10A.3 & 10A   & CF & 2 \\\\\n",
       "\tCFNE2\\_CF6\\_CF028.1 & CF028 & CF & 1 \\\\\n",
       "\tCFNE2\\_CF7\\_CF001.1 & CF001 & CF & 1 \\\\\n",
       "\tCFNE2\\_CF8\\_CF002.1 & CF002 & CF & 1 \\\\\n",
       "\tCFNE2\\_CF9\\_CF002.2 & CF002 & CF & 2 \\\\\n",
       "\tCFNE2\\_N10\\_N010 & N010  & HV & NA\\\\\n",
       "\tCFNE2\\_N11\\_N011 & N011  & HV & NA\\\\\n",
       "\tCFNE2\\_N1\\_N001 & N001  & HV & NA\\\\\n",
       "\tCFNE2\\_N2\\_N002 & N002  & HV & NA\\\\\n",
       "\tCFNE2\\_N3\\_N003 & N003  & HV & NA\\\\\n",
       "\tCFNE2\\_N4\\_N004 & N004  & HV & NA\\\\\n",
       "\tCFNE2\\_N5\\_N005 & N005  & HV & NA\\\\\n",
       "\tCFNE2\\_N6\\_N006 & N006  & HV & NA\\\\\n",
       "\tCFNE2\\_N7\\_N007 & N007  & HV & NA\\\\\n",
       "\tCFNE2\\_N8\\_N008 & N008  & HV & NA\\\\\n",
       "\tCFNE2\\_N9\\_N009 & N009  & HV & NA\\\\\n",
       "\\end{tabular}\n"
      ],
      "text/markdown": [
       "\n",
       "A data.frame: 46 × 3\n",
       "\n",
       "| <!--/--> | subj &lt;fct&gt; | condition &lt;fct&gt; | v &lt;fct&gt; |\n",
       "|---|---|---|---|\n",
       "| CFNE2_CF10_CF003.1 | CF003 | CF | 1  |\n",
       "| CFNE2_CF11_CF003.2 | CF003 | CF | 2  |\n",
       "| CFNE2_CF12_CF004.1 | CF004 | CF | 1  |\n",
       "| CFNE2_CF13_CF005.1 | CF005 | CF | 1  |\n",
       "| CFNE2_CF14_CF006.1 | CF006 | CF | 1  |\n",
       "| CFNE2_CF15_CF006.2 | CF006 | CF | 2  |\n",
       "| CFNE2_CF16_CF006.3 | CF006 | CF | 3  |\n",
       "| CFNE2_CF17_CF007.1 | CF007 | CF | 1  |\n",
       "| CFNE2_CF18_CF007.2 | CF007 | CF | 2  |\n",
       "| CFNE2_CF19_CF007.3 | CF007 | CF | 3  |\n",
       "| CFNE2_CF1_1A.2 | 1A    | CF | 1  |\n",
       "| CFNE2_CF20_CF008.1 | CF008 | CF | 1  |\n",
       "| CFNE2_CF23_CF009.2 | CF009 | CF | 2  |\n",
       "| CFNE2_CF26_CF011.2 | CF011 | CF | 2  |\n",
       "| CFNE2_CF27_CF012.1 | CF012 | CF | 1  |\n",
       "| CFNE2_CF28_CF012.2 | CF012 | CF | 2  |\n",
       "| CFNE2_CF2_1A.3 | 1A    | CF | 2  |\n",
       "| CFNE2_CF31_CF015.1 | CF015 | CF | 1  |\n",
       "| CFNE2_CF35_CF018.1 | CF018 | CF | 1  |\n",
       "| CFNE2_CF37_CF019.2 | CF019 | CF | 2  |\n",
       "| CFNE2_CF39_CF020.2 | CF020 | CF | 2  |\n",
       "| CFNE2_CF3_9A.2 | 9A    | CF | 1  |\n",
       "| CFNE2_CF40_CF021.1 | CF021 | CF | 1  |\n",
       "| CFNE2_CF41_CF022.1 | CF022 | CF | 1  |\n",
       "| CFNE2_CF42_CF023.1 | CF023 | CF | 1  |\n",
       "| CFNE2_CF43_CF024.1 | CF024 | CF | 1  |\n",
       "| CFNE2_CF44_CF025.1 | CF025 | CF | 1  |\n",
       "| CFNE2_CF45_CF026.1 | CF026 | CF | 1  |\n",
       "| CFNE2_CF47_CF029.1 | CF029 | CF | 1  |\n",
       "| CFNE2_CF4_10A.2 | 10A   | CF | 1  |\n",
       "| CFNE2_CF5_10A.3 | 10A   | CF | 2  |\n",
       "| CFNE2_CF6_CF028.1 | CF028 | CF | 1  |\n",
       "| CFNE2_CF7_CF001.1 | CF001 | CF | 1  |\n",
       "| CFNE2_CF8_CF002.1 | CF002 | CF | 1  |\n",
       "| CFNE2_CF9_CF002.2 | CF002 | CF | 2  |\n",
       "| CFNE2_N10_N010 | N010  | HV | NA |\n",
       "| CFNE2_N11_N011 | N011  | HV | NA |\n",
       "| CFNE2_N1_N001 | N001  | HV | NA |\n",
       "| CFNE2_N2_N002 | N002  | HV | NA |\n",
       "| CFNE2_N3_N003 | N003  | HV | NA |\n",
       "| CFNE2_N4_N004 | N004  | HV | NA |\n",
       "| CFNE2_N5_N005 | N005  | HV | NA |\n",
       "| CFNE2_N6_N006 | N006  | HV | NA |\n",
       "| CFNE2_N7_N007 | N007  | HV | NA |\n",
       "| CFNE2_N8_N008 | N008  | HV | NA |\n",
       "| CFNE2_N9_N009 | N009  | HV | NA |\n",
       "\n"
      ],
      "text/plain": [
       "                   subj  condition v \n",
       "CFNE2_CF10_CF003.1 CF003 CF        1 \n",
       "CFNE2_CF11_CF003.2 CF003 CF        2 \n",
       "CFNE2_CF12_CF004.1 CF004 CF        1 \n",
       "CFNE2_CF13_CF005.1 CF005 CF        1 \n",
       "CFNE2_CF14_CF006.1 CF006 CF        1 \n",
       "CFNE2_CF15_CF006.2 CF006 CF        2 \n",
       "CFNE2_CF16_CF006.3 CF006 CF        3 \n",
       "CFNE2_CF17_CF007.1 CF007 CF        1 \n",
       "CFNE2_CF18_CF007.2 CF007 CF        2 \n",
       "CFNE2_CF19_CF007.3 CF007 CF        3 \n",
       "CFNE2_CF1_1A.2     1A    CF        1 \n",
       "CFNE2_CF20_CF008.1 CF008 CF        1 \n",
       "CFNE2_CF23_CF009.2 CF009 CF        2 \n",
       "CFNE2_CF26_CF011.2 CF011 CF        2 \n",
       "CFNE2_CF27_CF012.1 CF012 CF        1 \n",
       "CFNE2_CF28_CF012.2 CF012 CF        2 \n",
       "CFNE2_CF2_1A.3     1A    CF        2 \n",
       "CFNE2_CF31_CF015.1 CF015 CF        1 \n",
       "CFNE2_CF35_CF018.1 CF018 CF        1 \n",
       "CFNE2_CF37_CF019.2 CF019 CF        2 \n",
       "CFNE2_CF39_CF020.2 CF020 CF        2 \n",
       "CFNE2_CF3_9A.2     9A    CF        1 \n",
       "CFNE2_CF40_CF021.1 CF021 CF        1 \n",
       "CFNE2_CF41_CF022.1 CF022 CF        1 \n",
       "CFNE2_CF42_CF023.1 CF023 CF        1 \n",
       "CFNE2_CF43_CF024.1 CF024 CF        1 \n",
       "CFNE2_CF44_CF025.1 CF025 CF        1 \n",
       "CFNE2_CF45_CF026.1 CF026 CF        1 \n",
       "CFNE2_CF47_CF029.1 CF029 CF        1 \n",
       "CFNE2_CF4_10A.2    10A   CF        1 \n",
       "CFNE2_CF5_10A.3    10A   CF        2 \n",
       "CFNE2_CF6_CF028.1  CF028 CF        1 \n",
       "CFNE2_CF7_CF001.1  CF001 CF        1 \n",
       "CFNE2_CF8_CF002.1  CF002 CF        1 \n",
       "CFNE2_CF9_CF002.2  CF002 CF        2 \n",
       "CFNE2_N10_N010     N010  HV        NA\n",
       "CFNE2_N11_N011     N011  HV        NA\n",
       "CFNE2_N1_N001      N001  HV        NA\n",
       "CFNE2_N2_N002      N002  HV        NA\n",
       "CFNE2_N3_N003      N003  HV        NA\n",
       "CFNE2_N4_N004      N004  HV        NA\n",
       "CFNE2_N5_N005      N005  HV        NA\n",
       "CFNE2_N6_N006      N006  HV        NA\n",
       "CFNE2_N7_N007      N007  HV        NA\n",
       "CFNE2_N8_N008      N008  HV        NA\n",
       "CFNE2_N9_N009      N009  HV        NA"
      ]
     },
     "metadata": {},
     "output_type": "display_data"
    }
   ],
   "source": [
    "subj.full <- sapply(strsplit(colnames(data.noctrl), split='_'), \"[[\", 3)\n",
    "subj <- sapply(strsplit(subj.full, split='\\\\.'), \"[[\", 1)\n",
    "\n",
    "condition <- c('CF', 'CF', 'CF', 'CF', 'CF', 'CF', 'CF', \n",
    "               'CF', 'CF', 'CF', 'CF', 'CF', 'CF', 'CF', \n",
    "               'CF', 'CF', 'CF', 'CF', 'CF', 'CF', 'CF', \n",
    "               'CF', 'CF', 'CF', 'CF', 'CF', 'CF', 'CF', \n",
    "               'CF', 'CF', 'CF', 'CF', 'CF', 'CF', 'CF', \n",
    "               'HV', 'HV', 'HV', 'HV', 'HV', 'HV', 'HV', 'HV', 'HV', \n",
    "               'HV', 'HV'\n",
    "              )\n",
    "\n",
    "#v <- c(1, 2, 1, 1, 1, 2, 3, 1, 2, 3, 2, 1, 2, 2, 1, 2, 3, 1, 1, 2, 2,\n",
    "#       2, 1, 1, 1, 1, 1, 1, 1, 2, 3, 1, 1, 1, 2, NA, NA, NA, NA, \n",
    "#       NA, NA, NA, NA, NA, NA, NA\n",
    "#      )\n",
    "\n",
    "# per Marc's documentation, 1A, 9A, and 10A are PwCF and their visits 2/3 are first and second visits\n",
    "v <- c(1, 2, 1, 1, 1, 2, 3, 1, 2, 3, 1, 1, 2, 2, 1, 2, 2, 1, 1, 2, 2,\n",
    "       1, 1, 1, 1, 1, 1, 1, 1, 1, 2, 1, 1, 1, 2, NA, NA, NA, NA, \n",
    "       NA, NA, NA, NA, NA, NA, NA\n",
    "      )\n",
    "\n",
    "all.coldata <- data.frame(subj=factor(subj), condition=factor(condition), v=factor(v))\n",
    "rownames(all.coldata) <- colnames(data.noctrl)\n",
    "all.coldata"
   ]
  },
  {
   "cell_type": "code",
   "execution_count": 6,
   "id": "90cb6256",
   "metadata": {},
   "outputs": [
    {
     "name": "stderr",
     "output_type": "stream",
     "text": [
      "converting counts to integer mode\n",
      "\n",
      "factor levels were dropped which had no samples\n",
      "\n"
     ]
    }
   ],
   "source": [
    "paired.samples <- c(\"CF002\", \"CF003\", \"CF006\", \"CF007\", \"CF012\", \"1A\", \"10A\")\n",
    "paired.sample.idxs <- c(1, 2)\n",
    "\n",
    "paired.coldata <- all.coldata[all.coldata$subj %in% paired.samples & all.coldata$v %in% paired.sample.idxs, ]\n",
    "\n",
    "paired.dds <- DESeqDataSetFromMatrix(countData = data.noctrl[, rownames(paired.coldata)],\n",
    "                                     colData = paired.coldata,\n",
    "                                     design = ~ subj + v\n",
    "                                    )"
   ]
  },
  {
   "cell_type": "code",
   "execution_count": 7,
   "id": "ee1fa134",
   "metadata": {},
   "outputs": [
    {
     "data": {
      "text/html": [
       "<table class=\"dataframe\">\n",
       "<caption>A data.frame: 14 × 3</caption>\n",
       "<thead>\n",
       "\t<tr><th></th><th scope=col>subj</th><th scope=col>condition</th><th scope=col>v</th></tr>\n",
       "\t<tr><th></th><th scope=col>&lt;fct&gt;</th><th scope=col>&lt;fct&gt;</th><th scope=col>&lt;fct&gt;</th></tr>\n",
       "</thead>\n",
       "<tbody>\n",
       "\t<tr><th scope=row>CFNE2_CF10_CF003.1</th><td>CF003</td><td>CF</td><td>1</td></tr>\n",
       "\t<tr><th scope=row>CFNE2_CF11_CF003.2</th><td>CF003</td><td>CF</td><td>2</td></tr>\n",
       "\t<tr><th scope=row>CFNE2_CF14_CF006.1</th><td>CF006</td><td>CF</td><td>1</td></tr>\n",
       "\t<tr><th scope=row>CFNE2_CF15_CF006.2</th><td>CF006</td><td>CF</td><td>2</td></tr>\n",
       "\t<tr><th scope=row>CFNE2_CF17_CF007.1</th><td>CF007</td><td>CF</td><td>1</td></tr>\n",
       "\t<tr><th scope=row>CFNE2_CF18_CF007.2</th><td>CF007</td><td>CF</td><td>2</td></tr>\n",
       "\t<tr><th scope=row>CFNE2_CF1_1A.2</th><td>1A   </td><td>CF</td><td>1</td></tr>\n",
       "\t<tr><th scope=row>CFNE2_CF27_CF012.1</th><td>CF012</td><td>CF</td><td>1</td></tr>\n",
       "\t<tr><th scope=row>CFNE2_CF28_CF012.2</th><td>CF012</td><td>CF</td><td>2</td></tr>\n",
       "\t<tr><th scope=row>CFNE2_CF2_1A.3</th><td>1A   </td><td>CF</td><td>2</td></tr>\n",
       "\t<tr><th scope=row>CFNE2_CF4_10A.2</th><td>10A  </td><td>CF</td><td>1</td></tr>\n",
       "\t<tr><th scope=row>CFNE2_CF5_10A.3</th><td>10A  </td><td>CF</td><td>2</td></tr>\n",
       "\t<tr><th scope=row>CFNE2_CF8_CF002.1</th><td>CF002</td><td>CF</td><td>1</td></tr>\n",
       "\t<tr><th scope=row>CFNE2_CF9_CF002.2</th><td>CF002</td><td>CF</td><td>2</td></tr>\n",
       "</tbody>\n",
       "</table>\n"
      ],
      "text/latex": [
       "A data.frame: 14 × 3\n",
       "\\begin{tabular}{r|lll}\n",
       "  & subj & condition & v\\\\\n",
       "  & <fct> & <fct> & <fct>\\\\\n",
       "\\hline\n",
       "\tCFNE2\\_CF10\\_CF003.1 & CF003 & CF & 1\\\\\n",
       "\tCFNE2\\_CF11\\_CF003.2 & CF003 & CF & 2\\\\\n",
       "\tCFNE2\\_CF14\\_CF006.1 & CF006 & CF & 1\\\\\n",
       "\tCFNE2\\_CF15\\_CF006.2 & CF006 & CF & 2\\\\\n",
       "\tCFNE2\\_CF17\\_CF007.1 & CF007 & CF & 1\\\\\n",
       "\tCFNE2\\_CF18\\_CF007.2 & CF007 & CF & 2\\\\\n",
       "\tCFNE2\\_CF1\\_1A.2 & 1A    & CF & 1\\\\\n",
       "\tCFNE2\\_CF27\\_CF012.1 & CF012 & CF & 1\\\\\n",
       "\tCFNE2\\_CF28\\_CF012.2 & CF012 & CF & 2\\\\\n",
       "\tCFNE2\\_CF2\\_1A.3 & 1A    & CF & 2\\\\\n",
       "\tCFNE2\\_CF4\\_10A.2 & 10A   & CF & 1\\\\\n",
       "\tCFNE2\\_CF5\\_10A.3 & 10A   & CF & 2\\\\\n",
       "\tCFNE2\\_CF8\\_CF002.1 & CF002 & CF & 1\\\\\n",
       "\tCFNE2\\_CF9\\_CF002.2 & CF002 & CF & 2\\\\\n",
       "\\end{tabular}\n"
      ],
      "text/markdown": [
       "\n",
       "A data.frame: 14 × 3\n",
       "\n",
       "| <!--/--> | subj &lt;fct&gt; | condition &lt;fct&gt; | v &lt;fct&gt; |\n",
       "|---|---|---|---|\n",
       "| CFNE2_CF10_CF003.1 | CF003 | CF | 1 |\n",
       "| CFNE2_CF11_CF003.2 | CF003 | CF | 2 |\n",
       "| CFNE2_CF14_CF006.1 | CF006 | CF | 1 |\n",
       "| CFNE2_CF15_CF006.2 | CF006 | CF | 2 |\n",
       "| CFNE2_CF17_CF007.1 | CF007 | CF | 1 |\n",
       "| CFNE2_CF18_CF007.2 | CF007 | CF | 2 |\n",
       "| CFNE2_CF1_1A.2 | 1A    | CF | 1 |\n",
       "| CFNE2_CF27_CF012.1 | CF012 | CF | 1 |\n",
       "| CFNE2_CF28_CF012.2 | CF012 | CF | 2 |\n",
       "| CFNE2_CF2_1A.3 | 1A    | CF | 2 |\n",
       "| CFNE2_CF4_10A.2 | 10A   | CF | 1 |\n",
       "| CFNE2_CF5_10A.3 | 10A   | CF | 2 |\n",
       "| CFNE2_CF8_CF002.1 | CF002 | CF | 1 |\n",
       "| CFNE2_CF9_CF002.2 | CF002 | CF | 2 |\n",
       "\n"
      ],
      "text/plain": [
       "                   subj  condition v\n",
       "CFNE2_CF10_CF003.1 CF003 CF        1\n",
       "CFNE2_CF11_CF003.2 CF003 CF        2\n",
       "CFNE2_CF14_CF006.1 CF006 CF        1\n",
       "CFNE2_CF15_CF006.2 CF006 CF        2\n",
       "CFNE2_CF17_CF007.1 CF007 CF        1\n",
       "CFNE2_CF18_CF007.2 CF007 CF        2\n",
       "CFNE2_CF1_1A.2     1A    CF        1\n",
       "CFNE2_CF27_CF012.1 CF012 CF        1\n",
       "CFNE2_CF28_CF012.2 CF012 CF        2\n",
       "CFNE2_CF2_1A.3     1A    CF        2\n",
       "CFNE2_CF4_10A.2    10A   CF        1\n",
       "CFNE2_CF5_10A.3    10A   CF        2\n",
       "CFNE2_CF8_CF002.1  CF002 CF        1\n",
       "CFNE2_CF9_CF002.2  CF002 CF        2"
      ]
     },
     "metadata": {},
     "output_type": "display_data"
    }
   ],
   "source": [
    "paired.coldata"
   ]
  },
  {
   "cell_type": "code",
   "execution_count": 8,
   "id": "1e189d9f",
   "metadata": {},
   "outputs": [],
   "source": [
    "keep <- rowSums(counts(paired.dds)) >= 10\n",
    "paired.dds <- paired.dds[keep, ]"
   ]
  },
  {
   "cell_type": "code",
   "execution_count": 9,
   "id": "5dc00e7d",
   "metadata": {},
   "outputs": [
    {
     "data": {
      "image/png": "[encoded data removed]",
      "text/plain": [
       "plot without title"
      ]
     },
     "metadata": {
      "image/png": {
       "height": 420,
       "width": 420
      }
     },
     "output_type": "display_data"
    }
   ],
   "source": [
    "d <- plotPCA(vst(paired.dds), intgroup = c('subj', 'v'), returnData=TRUE)\n",
    "percentVar <- round(100 * attr(d, \"percentVar\"))\n",
    "\n",
    "d.order <- d[order(d$v), ]\n",
    "\n",
    "ggplot(d, aes(x=PC1, y=PC2, color=subj)) +\n",
    "    #geom_point(aes(shape=v)) +\n",
    "    #geom_label_repel(aes(label = cf.dds$subj), show.legend=FALSE) +\n",
    "    geom_path(arrow=arrow()) +\n",
    "    xlab(paste0(\"PC1: \", percentVar[1], \"% variance\")) +\n",
    "    ylab(paste0(\"PC2: \", percentVar[2], \"% variance\")) +\n",
    "    coord_fixed() +\n",
    "    #scale_color_tableau(palette = 'Tableau 10') +\n",
    "    theme_classic()\n",
    "\n",
    "ggsave(file.path(fig2.out.dir, \"fig3a.png\"), height=3, width=3, dpi=300, unit='in')\n",
    "ggsave(file.path(fig2.out.dir, \"fig3a.svg\"), height=3, width=3, dpi=300, unit='in')"
   ]
  },
  {
   "cell_type": "code",
   "execution_count": 10,
   "id": "c9b5ad0a",
   "metadata": {},
   "outputs": [
    {
     "name": "stderr",
     "output_type": "stream",
     "text": [
      "Warning message:\n",
      "“\u001b[1m\u001b[22m`aes_string()` was deprecated in ggplot2 3.0.0.\n",
      "\u001b[36mℹ\u001b[39m Please use tidy evaluation idioms with `aes()`.\n",
      "\u001b[36mℹ\u001b[39m See also `vignette(\"ggplot2-in-packages\")` for more information.”\n"
     ]
    },
    {
     "name": "stdout",
     "output_type": "stream",
     "text": [
      "[1] \"PC1: 70 % variance\"\n"
     ]
    },
    {
     "name": "stderr",
     "output_type": "stream",
     "text": [
      "'select()' returned 1:1 mapping between keys and columns\n",
      "\n"
     ]
    },
    {
     "name": "stdout",
     "output_type": "stream",
     "text": [
      "[1] \"SRGN  ( 0.0702 ), MME  ( 0.07 ), CXCR2  ( 0.0693 ), FCGR3B  ( 0.0693 ), MNDA  ( 0.0691 ), AQP9  ( 0.0687 ), CXCR1  ( 0.0686 ), BCL2A1  ( 0.0683 ), FPR1  ( 0.0683 ), PROK2  ( 0.0676 ), SLC2A3  ( 0.0676 ), CSF3R  ( 0.0673 ), RGS2  ( 0.0673 ), CXCL8  ( 0.067 ), FPR2  ( 0.067 ), G0S2  ( 0.0659 ), TNFRSF10C  ( 0.0657 ), SELL  ( 0.0657 ), C5AR1  ( 0.0649 ), IL1B  ( 0.0646 )\"\n",
      "[1] \"=========\"\n",
      "[1] \"PC2: 17 % variance\"\n"
     ]
    },
    {
     "name": "stderr",
     "output_type": "stream",
     "text": [
      "'select()' returned 1:many mapping between keys and columns\n",
      "\n"
     ]
    },
    {
     "name": "stdout",
     "output_type": "stream",
     "text": [
      "[1] \"FAM216B  ( 0.0969 ), CCDC170  ( 0.0928 ), TPPP3  ( 0.0926 ), FOXJ1  ( 0.0912 ), SPAG6  ( 0.0902 ), C20orf85  ( 0.09 ), DNAH9  ( 0.0888 ), VWA3B  ( 0.0877 ), CCDC17  ( 0.0876 ), CDHR3  ( 0.0873 ), PIFO  ( 0.0872 ), RSPH4A  ( 0.0863 ), ROPN1L  ( 0.0863 ), CFAP45  ( 0.0858 ), DRC1  ( 0.0855 ), OMG  ( 0.0849 ), C9orf24  ( 0.0848 ), DNALI1  ( 0.0834 ), RSPH1  ( 0.0833 ), WDR38  ( 0.0833 )\"\n",
      "[1] \"=========\"\n",
      "[1] \"PC3: 6 % variance\"\n"
     ]
    },
    {
     "name": "stderr",
     "output_type": "stream",
     "text": [
      "'select()' returned 1:1 mapping between keys and columns\n",
      "\n"
     ]
    },
    {
     "name": "stdout",
     "output_type": "stream",
     "text": [
      "[1] \"PSORS1C1  ( 0.1496 ), CDSN  ( 0.1486 ), LCE3D  ( 0.1354 ), SPRR2G  ( 0.1285 ), CNFN  ( 0.1245 ), LORICRIN  ( 0.1242 ), CRCT1  ( 0.1241 ), ASPRV1  ( 0.1219 ), SBSN  ( 0.1211 ), NDRG4  ( 0.1201 ), KRT24  ( -0.119 ), CLDN17  ( 0.1159 ), KRT1  ( 0.1147 ), KPRP  ( 0.1125 ), SPINK7  ( 0.1123 ), SPRR2B  ( 0.1083 ), TRPV3  ( 0.1076 ), SPRR2E  ( 0.1069 ), RNASE7  ( 0.1065 ), EREG  ( 0.1061 )\"\n",
      "[1] \"=========\"\n",
      "[1] \"PC4: 2 % variance\"\n"
     ]
    },
    {
     "name": "stderr",
     "output_type": "stream",
     "text": [
      "'select()' returned 1:1 mapping between keys and columns\n",
      "\n"
     ]
    },
    {
     "name": "stdout",
     "output_type": "stream",
     "text": [
      "[1] \"COL17A1  ( -0.2596 ), KRT14  ( -0.2414 ), XIST  ( -0.2405 ), TSIX  ( -0.2314 ), DDX3Y  ( 0.2305 ), FN1  ( -0.2279 ), COL1A2  ( -0.2119 ), S100A2  ( -0.1896 ), COL3A1  ( -0.1661 ), MUC5AC  ( 0.138 ), NA  ( -0.1333 ), KRT24  ( -0.1166 ), SLC12A5-AS1  ( -0.1158 ), FCGBP  ( 0.1156 ), TRPV3  ( 0.1063 ), NAMPTP1  ( 0.1053 ), KRT17  ( -0.1048 ), MMP9  ( -0.1036 ), GBP5  ( 0.103 ), SPRR2B  ( 0.1023 )\"\n",
      "[1] \"=========\"\n",
      "[1] \"PC5: 1 % variance\"\n"
     ]
    },
    {
     "name": "stderr",
     "output_type": "stream",
     "text": [
      "'select()' returned 1:1 mapping between keys and columns\n",
      "\n"
     ]
    },
    {
     "name": "stdout",
     "output_type": "stream",
     "text": [
      "[1] \"HBB  ( 0.3031 ), MUC5AC  ( -0.1518 ), SLC26A4  ( -0.1433 ), NA  ( 0.1378 ), SPINK6  ( 0.1367 ), FLG  ( -0.1343 ), SCGB3A1  ( -0.1311 ), KRT14  ( 0.1226 ), DDX3Y  ( 0.1221 ), CRNN  ( -0.1215 ), GBP5  ( 0.1214 ), CXCL10  ( 0.1211 ), S100A2  ( 0.1207 ), COL1A2  ( -0.1172 ), KRT6B  ( 0.1172 ), CXCL9  ( 0.1147 ), IVL  ( 0.1081 ), SBSN  ( 0.1065 ), SERPINB9  ( 0.1038 ), HCAR2  ( 0.0996 )\"\n",
      "[1] \"=========\"\n",
      "[1] \"PC6: 1 % variance\"\n"
     ]
    },
    {
     "name": "stderr",
     "output_type": "stream",
     "text": [
      "'select()' returned 1:1 mapping between keys and columns\n",
      "\n"
     ]
    },
    {
     "name": "stdout",
     "output_type": "stream",
     "text": [
      "[1] \"BPIFA1  ( -0.2984 ), SCGB3A1  ( -0.2218 ), NA  ( -0.1867 ), CXCL10  ( 0.1761 ), SPRR2G  ( -0.1719 ), KRT24  ( 0.168 ), KRT1  ( -0.1564 ), CRNN  ( 0.1306 ), BPIFB1  ( -0.1303 ), MAL  ( 0.1287 ), CXCL9  ( 0.1281 ), TMPRSS11B  ( 0.126 ), LCE3D  ( -0.1138 ), FCGBP  ( -0.1138 ), CXCL5  ( -0.1113 ), SPINK7  ( 0.1111 ), FN1  ( -0.1082 ), LCE3E  ( -0.1056 ), VSIG10L  ( 0.0992 ), ECM1  ( 0.0983 )\"\n",
      "[1] \"=========\"\n",
      "[1] \"PC7: 1 % variance\"\n"
     ]
    },
    {
     "name": "stderr",
     "output_type": "stream",
     "text": [
      "'select()' returned 1:1 mapping between keys and columns\n",
      "\n"
     ]
    },
    {
     "name": "stdout",
     "output_type": "stream",
     "text": [
      "[1] \"COL3A1  ( -0.2166 ), KRT1  ( 0.1739 ), MMP9  ( -0.1556 ), SLC26A4  ( -0.1552 ), GABRQ  ( -0.154 ), MUC5AC  ( 0.1435 ), CXCL10  ( -0.1405 ), HBB  ( -0.14 ), SLC12A5-AS1  ( -0.119 ), NA  ( 0.1171 ), MAL  ( 0.1089 ), FLG  ( 0.1075 ), CXCL5  ( -0.1071 ), TRPV3  ( -0.1065 ), DUSP1  ( 0.105 ), NA  ( 0.1045 ), SPRR2G  ( 0.1035 ), TMPRSS11B  ( 0.1011 ), CRNN  ( 0.0997 ), XIST  ( -0.0994 )\"\n",
      "[1] \"=========\"\n",
      "[1] \"PC8: 1 % variance\"\n"
     ]
    },
    {
     "name": "stderr",
     "output_type": "stream",
     "text": [
      "'select()' returned 1:1 mapping between keys and columns\n",
      "\n"
     ]
    },
    {
     "name": "stdout",
     "output_type": "stream",
     "text": [
      "[1] \"HBB  ( 0.2417 ), FN1  ( -0.1861 ), GBP5  ( -0.1606 ), XIST  ( -0.1593 ), CXCL9  ( -0.1552 ), DDX3Y  ( 0.1529 ), PIK3CG  ( -0.1525 ), CXCL10  ( -0.143 ), KRT1  ( -0.1385 ), MUC2  ( 0.1306 ), TSIX  ( -0.1262 ), OSM  ( 0.1251 ), KRT24  ( 0.1233 ), CXCL5  ( -0.106 ), FOS  ( 0.1059 ), BPIFA1  ( 0.1043 ), MMP9  ( -0.1015 ), SPRR2G  ( -0.1013 ), ITGAL  ( -0.0988 ), RGS2  ( 0.0986 )\"\n",
      "[1] \"=========\"\n",
      "[1] \"PC9: 0 % variance\"\n"
     ]
    },
    {
     "name": "stderr",
     "output_type": "stream",
     "text": [
      "'select()' returned 1:1 mapping between keys and columns\n",
      "\n"
     ]
    },
    {
     "name": "stdout",
     "output_type": "stream",
     "text": [
      "[1] \"NA  ( 0.2532 ), COL3A1  ( 0.2087 ), DDX3Y  ( 0.1963 ), XIST  ( -0.1882 ), FN1  ( 0.1865 ), TSIX  ( -0.1751 ), NA  ( -0.1743 ), NA  ( 0.1726 ), COL1A2  ( 0.1686 ), SLC26A4  ( -0.1542 ), FCGBP  ( -0.1527 ), FLG  ( 0.1304 ), MMP9  ( 0.1251 ), SPRR2F  ( -0.1238 ), CXCL10  ( 0.1209 ), CXCL9  ( 0.119 ), SLC12A5-AS1  ( 0.1119 ), PLPPR3  ( 0.1107 ), RFLNB  ( 0.1039 ), LORICRIN  ( 0.1032 )\"\n",
      "[1] \"=========\"\n",
      "[1] \"PC10: 0 % variance\"\n"
     ]
    },
    {
     "name": "stderr",
     "output_type": "stream",
     "text": [
      "'select()' returned 1:1 mapping between keys and columns\n",
      "\n"
     ]
    },
    {
     "name": "stdout",
     "output_type": "stream",
     "text": [
      "[1] \"NA  ( -0.2136 ), BPIFB1  ( 0.1969 ), KRT14  ( 0.1737 ), NFE4  ( 0.1726 ), NAMPTP1  ( 0.1653 ), MUC5AC  ( 0.1562 ), CFD  ( 0.1525 ), FCGBP  ( 0.1464 ), MMP9  ( 0.1454 ), FN1  ( 0.1412 ), PSORS1C1  ( -0.1273 ), KRT6A  ( 0.1269 ), NA  ( -0.1229 ), KRT24  ( 0.1172 ), CDSN  ( -0.1149 ), COL3A1  ( 0.1138 ), S100A2  ( 0.1136 ), HEPHL1  ( 0.111 ), SLC12A5-AS1  ( 0.1026 ), HSD17B13  ( -0.1021 )\"\n",
      "[1] \"=========\"\n"
     ]
    }
   ],
   "source": [
    "d.manual <- plotPCA_manual(vst(paired.dds),\n",
    "                           intgroup=c(\"subj\"),\n",
    "                           ntop=500,\n",
    "                           pcs=10,\n",
    "                          )\n",
    "percentVar <- round(100 * attr(d.manual$data, \"percentVar\"))\n",
    "\n",
    "loadings <- data.frame(d.manual$pca$rotation)\n",
    "genes <- rownames(loadings)\n",
    "\n",
    "for (i in 1:10) {\n",
    "    print(sprintf(\"PC%d: %d %% variance\", i, percentVar[i]))\n",
    "    l <- loadings[, i]\n",
    "    ord <- order (abs(l), decreasing=TRUE)\n",
    "    g <- AnnotationDbi::mapIds(org.Hs.eg.db, as.vector(genes[ord][1:20]), \"SYMBOL\", \"ENSEMBL\")\n",
    "    #g <- genes[ord][1:20]\n",
    "    vg <- paste(g, \" (\", round(l[ord][1:20], 4), \")\")\n",
    "    print(paste(vg, collapse=\", \"))\n",
    "    print(\"=========\")\n",
    "}"
   ]
  },
  {
   "cell_type": "code",
   "execution_count": 11,
   "id": "07cf64f1",
   "metadata": {},
   "outputs": [
    {
     "name": "stderr",
     "output_type": "stream",
     "text": [
      "estimating size factors\n",
      "\n",
      "estimating dispersions\n",
      "\n",
      "gene-wise dispersion estimates\n",
      "\n",
      "mean-dispersion relationship\n",
      "\n",
      "final dispersion estimates\n",
      "\n",
      "fitting model and testing\n",
      "\n"
     ]
    }
   ],
   "source": [
    "paired.dds <- DESeq(paired.dds)"
   ]
  },
  {
   "cell_type": "code",
   "execution_count": 12,
   "id": "615b0a00",
   "metadata": {},
   "outputs": [
    {
     "name": "stderr",
     "output_type": "stream",
     "text": [
      "'select()' returned 1:many mapping between keys and columns\n",
      "\n"
     ]
    }
   ],
   "source": [
    "v2.vs.v1 <- as.data.frame(results(paired.dds, contrast=c('v', '2', '1')))\n",
    "v2.vs.v1 <- v2.vs.v1[!is.na(v2.vs.v1$padj), ]\n",
    "v2.vs.v1$sign <- \"\"\n",
    "v2.vs.v1$sign[(v2.vs.v1$log2FoldChange < 0) & (v2.vs.v1$padj < 0.05)] <- \"Down\"\n",
    "v2.vs.v1$sign[(v2.vs.v1$log2FoldChange > 0) & (v2.vs.v1$padj < 0.05)] <- \"Up\"\n",
    "v2.vs.v1 <- v2.vs.v1[order(v2.vs.v1$sign), ]\n",
    "\n",
    "v2.vs.v1.genenames <- AnnotationDbi::mapIds(org.Hs.eg.db, as.vector(rownames(v2.vs.v1)), \"SYMBOL\", \"ENSEMBL\")\n",
    "v2.vs.v1$genenames <- v2.vs.v1.genenames"
   ]
  },
  {
   "cell_type": "code",
   "execution_count": 13,
   "id": "971135fd",
   "metadata": {},
   "outputs": [
    {
     "data": {
      "text/html": [
       "<table class=\"dataframe\">\n",
       "<caption>A data.frame: 0 × 8</caption>\n",
       "<thead>\n",
       "\t<tr><th scope=col>baseMean</th><th scope=col>log2FoldChange</th><th scope=col>lfcSE</th><th scope=col>stat</th><th scope=col>pvalue</th><th scope=col>padj</th><th scope=col>sign</th><th scope=col>genenames</th></tr>\n",
       "\t<tr><th scope=col>&lt;dbl&gt;</th><th scope=col>&lt;dbl&gt;</th><th scope=col>&lt;dbl&gt;</th><th scope=col>&lt;dbl&gt;</th><th scope=col>&lt;dbl&gt;</th><th scope=col>&lt;dbl&gt;</th><th scope=col>&lt;chr&gt;</th><th scope=col>&lt;chr&gt;</th></tr>\n",
       "</thead>\n",
       "<tbody>\n",
       "</tbody>\n",
       "</table>\n"
      ],
      "text/latex": [
       "A data.frame: 0 × 8\n",
       "\\begin{tabular}{llllllll}\n",
       " baseMean & log2FoldChange & lfcSE & stat & pvalue & padj & sign & genenames\\\\\n",
       " <dbl> & <dbl> & <dbl> & <dbl> & <dbl> & <dbl> & <chr> & <chr>\\\\\n",
       "\\hline\n",
       "\\end{tabular}\n"
      ],
      "text/markdown": [
       "\n",
       "A data.frame: 0 × 8\n",
       "\n",
       "| baseMean &lt;dbl&gt; | log2FoldChange &lt;dbl&gt; | lfcSE &lt;dbl&gt; | stat &lt;dbl&gt; | pvalue &lt;dbl&gt; | padj &lt;dbl&gt; | sign &lt;chr&gt; | genenames &lt;chr&gt; |\n",
       "|---|---|---|---|---|---|---|---|\n",
       "\n"
      ],
      "text/plain": [
       "     baseMean log2FoldChange lfcSE stat pvalue padj sign genenames"
      ]
     },
     "metadata": {},
     "output_type": "display_data"
    }
   ],
   "source": [
    "v2.vs.v1[v2.vs.v1$padj < 0.05, ]"
   ]
  },
  {
   "cell_type": "code",
   "execution_count": 14,
   "id": "cd118f78",
   "metadata": {},
   "outputs": [
    {
     "data": {
      "image/png": "[encoded data removed]",
      "text/plain": [
       "plot without title"
      ]
     },
     "metadata": {
      "image/png": {
       "height": 420,
       "width": 420
      }
     },
     "output_type": "display_data"
    }
   ],
   "source": [
    "ggplot(v2.vs.v1, aes(x=baseMean, y=log2FoldChange)) +\n",
    "    geom_point(aes(fill=sign, color=sign), stroke=0.5) +\n",
    "    # ylim(-10, 10)\n",
    "    #geom_label_repel(\n",
    "    #    aes(label = GENENAME, fontface = \"italic\"), \n",
    "    #    data = v2.vs.v1[v2.vs.v1$padj < 0.05, ],\n",
    "    #    box.padding = 0.5,\n",
    "    #    seed = 5000,\n",
    "    #) +\n",
    "    scale_x_log10() +\n",
    "    scale_color_manual(values = c(\"gray\", \"darkred\", \"blue\"), name = \"Significance\", labels = c(\"Not significant\", \"Downregulated\", \"Upregulated\")) +\n",
    "    scale_fill_manual(values = c(\"gray\", \"darkred\", \"blue\"), name = \"Significance\", labels = c(\"Not significant\", \"Downregulated\", \"Upregulated\")) + \n",
    "    annotate(\"text\", x = 6e+04, y = 5, label = sprintf(\"Up in Visit 2: %d\", sum(v2.vs.v1$sign == \"Up\"))) +\n",
    "    annotate(\"text\", x = 6e+04, y = -6, label = sprintf(\"Up in Visit 1: %d\", sum(v2.vs.v1$sign == \"Down\"))) +\n",
    "    theme_classic()\n",
    "\n",
    "ggsave(file.path(fig2.out.dir, \"fig3b.png\"), height=4, width=8, dpi=300, unit='in')\n",
    "ggsave(file.path(fig2.out.dir, \"fig3b.svg\"), height=4, width=8, dpi=300, unit='in')"
   ]
  },
  {
   "cell_type": "markdown",
   "id": "1d4c8c23",
   "metadata": {},
   "source": [
    "## Correlation"
   ]
  },
  {
   "cell_type": "code",
   "execution_count": 15,
   "id": "29cd799c",
   "metadata": {},
   "outputs": [],
   "source": [
    "paired.cor.mtx <- cor(counts(paired.dds, normalized=TRUE), method = 'spearman')"
   ]
  },
  {
   "cell_type": "code",
   "execution_count": 16,
   "id": "5abc8716",
   "metadata": {},
   "outputs": [
    {
     "data": {
      "image/png": "[encoded data removed]",
      "text/plain": [
       "plot without title"
      ]
     },
     "metadata": {
      "image/png": {
       "height": 420,
       "width": 420
      }
     },
     "output_type": "display_data"
    }
   ],
   "source": [
    "p <- pheatmap(paired.cor.mtx, cluster_rows=FALSE, cluster_cols=FALSE)\n",
    "\n",
    "#ggsave(file.path(fig2.out.dir, \"fig2c.png\"), plot=p, height=3, width=4.5, dpi=300, unit='in')"
   ]
  },
  {
   "cell_type": "code",
   "execution_count": 17,
   "id": "ee87dbb6",
   "metadata": {},
   "outputs": [
    {
     "data": {
      "text/html": [
       "'/home/trc891/projects/cyb/2022-CFnose/data/10paper_figures/fig3/fig2c.png'"
      ],
      "text/latex": [
       "'/home/trc891/projects/cyb/2022-CFnose/data/10paper\\_figures/fig3/fig2c.png'"
      ],
      "text/markdown": [
       "'/home/trc891/projects/cyb/2022-CFnose/data/10paper_figures/fig3/fig2c.png'"
      ],
      "text/plain": [
       "[1] \"/home/trc891/projects/cyb/2022-CFnose/data/10paper_figures/fig3/fig2c.png\""
      ]
     },
     "metadata": {},
     "output_type": "display_data"
    }
   ],
   "source": [
    "file.path(fig2.out.dir, \"fig2c.png\")"
   ]
  },
  {
   "cell_type": "code",
   "execution_count": 18,
   "id": "a94abf4d",
   "metadata": {},
   "outputs": [
    {
     "data": {
      "text/html": [
       "<table class=\"dataframe\">\n",
       "<caption>A matrix: 14 × 14 of type dbl</caption>\n",
       "<thead>\n",
       "\t<tr><th></th><th scope=col>CFNE2_CF10_CF003.1</th><th scope=col>CFNE2_CF11_CF003.2</th><th scope=col>CFNE2_CF14_CF006.1</th><th scope=col>CFNE2_CF15_CF006.2</th><th scope=col>CFNE2_CF17_CF007.1</th><th scope=col>CFNE2_CF18_CF007.2</th><th scope=col>CFNE2_CF1_1A.2</th><th scope=col>CFNE2_CF27_CF012.1</th><th scope=col>CFNE2_CF28_CF012.2</th><th scope=col>CFNE2_CF2_1A.3</th><th scope=col>CFNE2_CF4_10A.2</th><th scope=col>CFNE2_CF5_10A.3</th><th scope=col>CFNE2_CF8_CF002.1</th><th scope=col>CFNE2_CF9_CF002.2</th></tr>\n",
       "</thead>\n",
       "<tbody>\n",
       "\t<tr><th scope=row>CFNE2_CF10_CF003.1</th><td>NA</td><td>0.9427948</td><td>0.9178106</td><td>0.8831183</td><td>0.9429931</td><td>0.8690934</td><td>0.8603731</td><td>0.7946924</td><td>0.9278809</td><td>0.8830638</td><td>0.8097460</td><td>0.9337602</td><td>0.9299031</td><td>0.9372838</td></tr>\n",
       "\t<tr><th scope=row>CFNE2_CF11_CF003.2</th><td>NA</td><td>       NA</td><td>0.9332810</td><td>0.9134617</td><td>0.9433930</td><td>0.9027981</td><td>0.8965767</td><td>0.8158411</td><td>0.9401615</td><td>0.9070931</td><td>0.8391328</td><td>0.9273399</td><td>0.9432357</td><td>0.9406628</td></tr>\n",
       "\t<tr><th scope=row>CFNE2_CF14_CF006.1</th><td>NA</td><td>       NA</td><td>       NA</td><td>0.9268402</td><td>0.9210217</td><td>0.9080098</td><td>0.8883789</td><td>0.8234439</td><td>0.9298803</td><td>0.9060712</td><td>0.8473541</td><td>0.9017841</td><td>0.9372145</td><td>0.9207643</td></tr>\n",
       "\t<tr><th scope=row>CFNE2_CF15_CF006.2</th><td>NA</td><td>       NA</td><td>       NA</td><td>       NA</td><td>0.8914164</td><td>0.9210571</td><td>0.9096699</td><td>0.8684763</td><td>0.9187127</td><td>0.9346501</td><td>0.8950896</td><td>0.8906097</td><td>0.9266930</td><td>0.9113825</td></tr>\n",
       "\t<tr><th scope=row>CFNE2_CF17_CF007.1</th><td>NA</td><td>       NA</td><td>       NA</td><td>       NA</td><td>       NA</td><td>0.8927951</td><td>0.8826789</td><td>0.7991621</td><td>0.9383445</td><td>0.8932908</td><td>0.8142130</td><td>0.9280194</td><td>0.9342419</td><td>0.9445037</td></tr>\n",
       "\t<tr><th scope=row>CFNE2_CF18_CF007.2</th><td>NA</td><td>       NA</td><td>       NA</td><td>       NA</td><td>       NA</td><td>       NA</td><td>0.9180072</td><td>0.8353657</td><td>0.9074999</td><td>0.9148305</td><td>0.8601174</td><td>0.8710084</td><td>0.9108052</td><td>0.9025293</td></tr>\n",
       "\t<tr><th scope=row>CFNE2_CF1_1A.2</th><td>NA</td><td>       NA</td><td>       NA</td><td>       NA</td><td>       NA</td><td>       NA</td><td>       NA</td><td>0.8180709</td><td>0.8967208</td><td>0.9238074</td><td>0.8530579</td><td>0.8721842</td><td>0.8997773</td><td>0.9022062</td></tr>\n",
       "\t<tr><th scope=row>CFNE2_CF27_CF012.1</th><td>NA</td><td>       NA</td><td>       NA</td><td>       NA</td><td>       NA</td><td>       NA</td><td>       NA</td><td>       NA</td><td>0.8302100</td><td>0.8679915</td><td>0.8773315</td><td>0.8196830</td><td>0.8388099</td><td>0.8298597</td></tr>\n",
       "\t<tr><th scope=row>CFNE2_CF28_CF012.2</th><td>NA</td><td>       NA</td><td>       NA</td><td>       NA</td><td>       NA</td><td>       NA</td><td>       NA</td><td>       NA</td><td>       NA</td><td>0.9112771</td><td>0.8465022</td><td>0.9191548</td><td>0.9415187</td><td>0.9402953</td></tr>\n",
       "\t<tr><th scope=row>CFNE2_CF2_1A.3</th><td>NA</td><td>       NA</td><td>       NA</td><td>       NA</td><td>       NA</td><td>       NA</td><td>       NA</td><td>       NA</td><td>       NA</td><td>       NA</td><td>0.9043840</td><td>0.8999120</td><td>0.9201750</td><td>0.9182993</td></tr>\n",
       "\t<tr><th scope=row>CFNE2_CF4_10A.2</th><td>NA</td><td>       NA</td><td>       NA</td><td>       NA</td><td>       NA</td><td>       NA</td><td>       NA</td><td>       NA</td><td>       NA</td><td>       NA</td><td>       NA</td><td>0.8414554</td><td>0.8575697</td><td>0.8461484</td></tr>\n",
       "\t<tr><th scope=row>CFNE2_CF5_10A.3</th><td>NA</td><td>       NA</td><td>       NA</td><td>       NA</td><td>       NA</td><td>       NA</td><td>       NA</td><td>       NA</td><td>       NA</td><td>       NA</td><td>       NA</td><td>       NA</td><td>0.9222948</td><td>0.9350873</td></tr>\n",
       "\t<tr><th scope=row>CFNE2_CF8_CF002.1</th><td>NA</td><td>       NA</td><td>       NA</td><td>       NA</td><td>       NA</td><td>       NA</td><td>       NA</td><td>       NA</td><td>       NA</td><td>       NA</td><td>       NA</td><td>       NA</td><td>       NA</td><td>0.9435664</td></tr>\n",
       "\t<tr><th scope=row>CFNE2_CF9_CF002.2</th><td>NA</td><td>       NA</td><td>       NA</td><td>       NA</td><td>       NA</td><td>       NA</td><td>       NA</td><td>       NA</td><td>       NA</td><td>       NA</td><td>       NA</td><td>       NA</td><td>       NA</td><td>       NA</td></tr>\n",
       "</tbody>\n",
       "</table>\n"
      ],
      "text/latex": [
       "A matrix: 14 × 14 of type dbl\n",
       "\\begin{tabular}{r|llllllllllllll}\n",
       "  & CFNE2\\_CF10\\_CF003.1 & CFNE2\\_CF11\\_CF003.2 & CFNE2\\_CF14\\_CF006.1 & CFNE2\\_CF15\\_CF006.2 & CFNE2\\_CF17\\_CF007.1 & CFNE2\\_CF18\\_CF007.2 & CFNE2\\_CF1\\_1A.2 & CFNE2\\_CF27\\_CF012.1 & CFNE2\\_CF28\\_CF012.2 & CFNE2\\_CF2\\_1A.3 & CFNE2\\_CF4\\_10A.2 & CFNE2\\_CF5\\_10A.3 & CFNE2\\_CF8\\_CF002.1 & CFNE2\\_CF9\\_CF002.2\\\\\n",
       "\\hline\n",
       "\tCFNE2\\_CF10\\_CF003.1 & NA & 0.9427948 & 0.9178106 & 0.8831183 & 0.9429931 & 0.8690934 & 0.8603731 & 0.7946924 & 0.9278809 & 0.8830638 & 0.8097460 & 0.9337602 & 0.9299031 & 0.9372838\\\\\n",
       "\tCFNE2\\_CF11\\_CF003.2 & NA &        NA & 0.9332810 & 0.9134617 & 0.9433930 & 0.9027981 & 0.8965767 & 0.8158411 & 0.9401615 & 0.9070931 & 0.8391328 & 0.9273399 & 0.9432357 & 0.9406628\\\\\n",
       "\tCFNE2\\_CF14\\_CF006.1 & NA &        NA &        NA & 0.9268402 & 0.9210217 & 0.9080098 & 0.8883789 & 0.8234439 & 0.9298803 & 0.9060712 & 0.8473541 & 0.9017841 & 0.9372145 & 0.9207643\\\\\n",
       "\tCFNE2\\_CF15\\_CF006.2 & NA &        NA &        NA &        NA & 0.8914164 & 0.9210571 & 0.9096699 & 0.8684763 & 0.9187127 & 0.9346501 & 0.8950896 & 0.8906097 & 0.9266930 & 0.9113825\\\\\n",
       "\tCFNE2\\_CF17\\_CF007.1 & NA &        NA &        NA &        NA &        NA & 0.8927951 & 0.8826789 & 0.7991621 & 0.9383445 & 0.8932908 & 0.8142130 & 0.9280194 & 0.9342419 & 0.9445037\\\\\n",
       "\tCFNE2\\_CF18\\_CF007.2 & NA &        NA &        NA &        NA &        NA &        NA & 0.9180072 & 0.8353657 & 0.9074999 & 0.9148305 & 0.8601174 & 0.8710084 & 0.9108052 & 0.9025293\\\\\n",
       "\tCFNE2\\_CF1\\_1A.2 & NA &        NA &        NA &        NA &        NA &        NA &        NA & 0.8180709 & 0.8967208 & 0.9238074 & 0.8530579 & 0.8721842 & 0.8997773 & 0.9022062\\\\\n",
       "\tCFNE2\\_CF27\\_CF012.1 & NA &        NA &        NA &        NA &        NA &        NA &        NA &        NA & 0.8302100 & 0.8679915 & 0.8773315 & 0.8196830 & 0.8388099 & 0.8298597\\\\\n",
       "\tCFNE2\\_CF28\\_CF012.2 & NA &        NA &        NA &        NA &        NA &        NA &        NA &        NA &        NA & 0.9112771 & 0.8465022 & 0.9191548 & 0.9415187 & 0.9402953\\\\\n",
       "\tCFNE2\\_CF2\\_1A.3 & NA &        NA &        NA &        NA &        NA &        NA &        NA &        NA &        NA &        NA & 0.9043840 & 0.8999120 & 0.9201750 & 0.9182993\\\\\n",
       "\tCFNE2\\_CF4\\_10A.2 & NA &        NA &        NA &        NA &        NA &        NA &        NA &        NA &        NA &        NA &        NA & 0.8414554 & 0.8575697 & 0.8461484\\\\\n",
       "\tCFNE2\\_CF5\\_10A.3 & NA &        NA &        NA &        NA &        NA &        NA &        NA &        NA &        NA &        NA &        NA &        NA & 0.9222948 & 0.9350873\\\\\n",
       "\tCFNE2\\_CF8\\_CF002.1 & NA &        NA &        NA &        NA &        NA &        NA &        NA &        NA &        NA &        NA &        NA &        NA &        NA & 0.9435664\\\\\n",
       "\tCFNE2\\_CF9\\_CF002.2 & NA &        NA &        NA &        NA &        NA &        NA &        NA &        NA &        NA &        NA &        NA &        NA &        NA &        NA\\\\\n",
       "\\end{tabular}\n"
      ],
      "text/markdown": [
       "\n",
       "A matrix: 14 × 14 of type dbl\n",
       "\n",
       "| <!--/--> | CFNE2_CF10_CF003.1 | CFNE2_CF11_CF003.2 | CFNE2_CF14_CF006.1 | CFNE2_CF15_CF006.2 | CFNE2_CF17_CF007.1 | CFNE2_CF18_CF007.2 | CFNE2_CF1_1A.2 | CFNE2_CF27_CF012.1 | CFNE2_CF28_CF012.2 | CFNE2_CF2_1A.3 | CFNE2_CF4_10A.2 | CFNE2_CF5_10A.3 | CFNE2_CF8_CF002.1 | CFNE2_CF9_CF002.2 |\n",
       "|---|---|---|---|---|---|---|---|---|---|---|---|---|---|---|\n",
       "| CFNE2_CF10_CF003.1 | NA | 0.9427948 | 0.9178106 | 0.8831183 | 0.9429931 | 0.8690934 | 0.8603731 | 0.7946924 | 0.9278809 | 0.8830638 | 0.8097460 | 0.9337602 | 0.9299031 | 0.9372838 |\n",
       "| CFNE2_CF11_CF003.2 | NA |        NA | 0.9332810 | 0.9134617 | 0.9433930 | 0.9027981 | 0.8965767 | 0.8158411 | 0.9401615 | 0.9070931 | 0.8391328 | 0.9273399 | 0.9432357 | 0.9406628 |\n",
       "| CFNE2_CF14_CF006.1 | NA |        NA |        NA | 0.9268402 | 0.9210217 | 0.9080098 | 0.8883789 | 0.8234439 | 0.9298803 | 0.9060712 | 0.8473541 | 0.9017841 | 0.9372145 | 0.9207643 |\n",
       "| CFNE2_CF15_CF006.2 | NA |        NA |        NA |        NA | 0.8914164 | 0.9210571 | 0.9096699 | 0.8684763 | 0.9187127 | 0.9346501 | 0.8950896 | 0.8906097 | 0.9266930 | 0.9113825 |\n",
       "| CFNE2_CF17_CF007.1 | NA |        NA |        NA |        NA |        NA | 0.8927951 | 0.8826789 | 0.7991621 | 0.9383445 | 0.8932908 | 0.8142130 | 0.9280194 | 0.9342419 | 0.9445037 |\n",
       "| CFNE2_CF18_CF007.2 | NA |        NA |        NA |        NA |        NA |        NA | 0.9180072 | 0.8353657 | 0.9074999 | 0.9148305 | 0.8601174 | 0.8710084 | 0.9108052 | 0.9025293 |\n",
       "| CFNE2_CF1_1A.2 | NA |        NA |        NA |        NA |        NA |        NA |        NA | 0.8180709 | 0.8967208 | 0.9238074 | 0.8530579 | 0.8721842 | 0.8997773 | 0.9022062 |\n",
       "| CFNE2_CF27_CF012.1 | NA |        NA |        NA |        NA |        NA |        NA |        NA |        NA | 0.8302100 | 0.8679915 | 0.8773315 | 0.8196830 | 0.8388099 | 0.8298597 |\n",
       "| CFNE2_CF28_CF012.2 | NA |        NA |        NA |        NA |        NA |        NA |        NA |        NA |        NA | 0.9112771 | 0.8465022 | 0.9191548 | 0.9415187 | 0.9402953 |\n",
       "| CFNE2_CF2_1A.3 | NA |        NA |        NA |        NA |        NA |        NA |        NA |        NA |        NA |        NA | 0.9043840 | 0.8999120 | 0.9201750 | 0.9182993 |\n",
       "| CFNE2_CF4_10A.2 | NA |        NA |        NA |        NA |        NA |        NA |        NA |        NA |        NA |        NA |        NA | 0.8414554 | 0.8575697 | 0.8461484 |\n",
       "| CFNE2_CF5_10A.3 | NA |        NA |        NA |        NA |        NA |        NA |        NA |        NA |        NA |        NA |        NA |        NA | 0.9222948 | 0.9350873 |\n",
       "| CFNE2_CF8_CF002.1 | NA |        NA |        NA |        NA |        NA |        NA |        NA |        NA |        NA |        NA |        NA |        NA |        NA | 0.9435664 |\n",
       "| CFNE2_CF9_CF002.2 | NA |        NA |        NA |        NA |        NA |        NA |        NA |        NA |        NA |        NA |        NA |        NA |        NA |        NA |\n",
       "\n"
      ],
      "text/plain": [
       "                   CFNE2_CF10_CF003.1 CFNE2_CF11_CF003.2 CFNE2_CF14_CF006.1\n",
       "CFNE2_CF10_CF003.1 NA                 0.9427948          0.9178106         \n",
       "CFNE2_CF11_CF003.2 NA                        NA          0.9332810         \n",
       "CFNE2_CF14_CF006.1 NA                        NA                 NA         \n",
       "CFNE2_CF15_CF006.2 NA                        NA                 NA         \n",
       "CFNE2_CF17_CF007.1 NA                        NA                 NA         \n",
       "CFNE2_CF18_CF007.2 NA                        NA                 NA         \n",
       "CFNE2_CF1_1A.2     NA                        NA                 NA         \n",
       "CFNE2_CF27_CF012.1 NA                        NA                 NA         \n",
       "CFNE2_CF28_CF012.2 NA                        NA                 NA         \n",
       "CFNE2_CF2_1A.3     NA                        NA                 NA         \n",
       "CFNE2_CF4_10A.2    NA                        NA                 NA         \n",
       "CFNE2_CF5_10A.3    NA                        NA                 NA         \n",
       "CFNE2_CF8_CF002.1  NA                        NA                 NA         \n",
       "CFNE2_CF9_CF002.2  NA                        NA                 NA         \n",
       "                   CFNE2_CF15_CF006.2 CFNE2_CF17_CF007.1 CFNE2_CF18_CF007.2\n",
       "CFNE2_CF10_CF003.1 0.8831183          0.9429931          0.8690934         \n",
       "CFNE2_CF11_CF003.2 0.9134617          0.9433930          0.9027981         \n",
       "CFNE2_CF14_CF006.1 0.9268402          0.9210217          0.9080098         \n",
       "CFNE2_CF15_CF006.2        NA          0.8914164          0.9210571         \n",
       "CFNE2_CF17_CF007.1        NA                 NA          0.8927951         \n",
       "CFNE2_CF18_CF007.2        NA                 NA                 NA         \n",
       "CFNE2_CF1_1A.2            NA                 NA                 NA         \n",
       "CFNE2_CF27_CF012.1        NA                 NA                 NA         \n",
       "CFNE2_CF28_CF012.2        NA                 NA                 NA         \n",
       "CFNE2_CF2_1A.3            NA                 NA                 NA         \n",
       "CFNE2_CF4_10A.2           NA                 NA                 NA         \n",
       "CFNE2_CF5_10A.3           NA                 NA                 NA         \n",
       "CFNE2_CF8_CF002.1         NA                 NA                 NA         \n",
       "CFNE2_CF9_CF002.2         NA                 NA                 NA         \n",
       "                   CFNE2_CF1_1A.2 CFNE2_CF27_CF012.1 CFNE2_CF28_CF012.2\n",
       "CFNE2_CF10_CF003.1 0.8603731      0.7946924          0.9278809         \n",
       "CFNE2_CF11_CF003.2 0.8965767      0.8158411          0.9401615         \n",
       "CFNE2_CF14_CF006.1 0.8883789      0.8234439          0.9298803         \n",
       "CFNE2_CF15_CF006.2 0.9096699      0.8684763          0.9187127         \n",
       "CFNE2_CF17_CF007.1 0.8826789      0.7991621          0.9383445         \n",
       "CFNE2_CF18_CF007.2 0.9180072      0.8353657          0.9074999         \n",
       "CFNE2_CF1_1A.2            NA      0.8180709          0.8967208         \n",
       "CFNE2_CF27_CF012.1        NA             NA          0.8302100         \n",
       "CFNE2_CF28_CF012.2        NA             NA                 NA         \n",
       "CFNE2_CF2_1A.3            NA             NA                 NA         \n",
       "CFNE2_CF4_10A.2           NA             NA                 NA         \n",
       "CFNE2_CF5_10A.3           NA             NA                 NA         \n",
       "CFNE2_CF8_CF002.1         NA             NA                 NA         \n",
       "CFNE2_CF9_CF002.2         NA             NA                 NA         \n",
       "                   CFNE2_CF2_1A.3 CFNE2_CF4_10A.2 CFNE2_CF5_10A.3\n",
       "CFNE2_CF10_CF003.1 0.8830638      0.8097460       0.9337602      \n",
       "CFNE2_CF11_CF003.2 0.9070931      0.8391328       0.9273399      \n",
       "CFNE2_CF14_CF006.1 0.9060712      0.8473541       0.9017841      \n",
       "CFNE2_CF15_CF006.2 0.9346501      0.8950896       0.8906097      \n",
       "CFNE2_CF17_CF007.1 0.8932908      0.8142130       0.9280194      \n",
       "CFNE2_CF18_CF007.2 0.9148305      0.8601174       0.8710084      \n",
       "CFNE2_CF1_1A.2     0.9238074      0.8530579       0.8721842      \n",
       "CFNE2_CF27_CF012.1 0.8679915      0.8773315       0.8196830      \n",
       "CFNE2_CF28_CF012.2 0.9112771      0.8465022       0.9191548      \n",
       "CFNE2_CF2_1A.3            NA      0.9043840       0.8999120      \n",
       "CFNE2_CF4_10A.2           NA             NA       0.8414554      \n",
       "CFNE2_CF5_10A.3           NA             NA              NA      \n",
       "CFNE2_CF8_CF002.1         NA             NA              NA      \n",
       "CFNE2_CF9_CF002.2         NA             NA              NA      \n",
       "                   CFNE2_CF8_CF002.1 CFNE2_CF9_CF002.2\n",
       "CFNE2_CF10_CF003.1 0.9299031         0.9372838        \n",
       "CFNE2_CF11_CF003.2 0.9432357         0.9406628        \n",
       "CFNE2_CF14_CF006.1 0.9372145         0.9207643        \n",
       "CFNE2_CF15_CF006.2 0.9266930         0.9113825        \n",
       "CFNE2_CF17_CF007.1 0.9342419         0.9445037        \n",
       "CFNE2_CF18_CF007.2 0.9108052         0.9025293        \n",
       "CFNE2_CF1_1A.2     0.8997773         0.9022062        \n",
       "CFNE2_CF27_CF012.1 0.8388099         0.8298597        \n",
       "CFNE2_CF28_CF012.2 0.9415187         0.9402953        \n",
       "CFNE2_CF2_1A.3     0.9201750         0.9182993        \n",
       "CFNE2_CF4_10A.2    0.8575697         0.8461484        \n",
       "CFNE2_CF5_10A.3    0.9222948         0.9350873        \n",
       "CFNE2_CF8_CF002.1         NA         0.9435664        \n",
       "CFNE2_CF9_CF002.2         NA                NA        "
      ]
     },
     "metadata": {},
     "output_type": "display_data"
    }
   ],
   "source": [
    "paired.cor.tri <- paired.cor.mtx\n",
    "paired.cor.tri[lower.tri(paired.cor.mtx, diag=TRUE)] <- NA\n",
    "paired.cor.tri"
   ]
  },
  {
   "cell_type": "code",
   "execution_count": 19,
   "id": "ecb7e7c1",
   "metadata": {},
   "outputs": [
    {
     "data": {
      "text/html": [
       "0.901737733383198"
      ],
      "text/latex": [
       "0.901737733383198"
      ],
      "text/markdown": [
       "0.901737733383198"
      ],
      "text/plain": [
       "[1] 0.9017377"
      ]
     },
     "metadata": {},
     "output_type": "display_data"
    }
   ],
   "source": [
    "mean(diag(paired.cor.tri[rownames(paired.coldata[paired.coldata$v == 1, ]),\n",
    "                         rownames(paired.coldata[paired.coldata$v == 2, ])]))"
   ]
  },
  {
   "cell_type": "code",
   "execution_count": 20,
   "id": "0616ba8f",
   "metadata": {},
   "outputs": [
    {
     "data": {
      "text/html": [
       "0.894931585729989"
      ],
      "text/latex": [
       "0.894931585729989"
      ],
      "text/markdown": [
       "0.894931585729989"
      ],
      "text/plain": [
       "[1] 0.8949316"
      ]
     },
     "metadata": {},
     "output_type": "display_data"
    }
   ],
   "source": [
    "mean(paired.cor.tri, na.rm=TRUE)"
   ]
  },
  {
   "cell_type": "code",
   "execution_count": 21,
   "id": "1a56501a",
   "metadata": {},
   "outputs": [
    {
     "data": {
      "text/plain": [
       "\n",
       "\tWelch Two Sample t-test\n",
       "\n",
       "data:  diag(paired.cor.tri[rownames(paired.coldata[paired.coldata$v == 1, ]), rownames(paired.coldata[paired.coldata$v == 2, ])]) and na.omit(as.vector(paired.cor.tri))\n",
       "t = 0.44797, df = 7.0481, p-value = 0.6676\n",
       "alternative hypothesis: true difference in means is not equal to 0\n",
       "95 percent confidence interval:\n",
       " -0.02907107  0.04268337\n",
       "sample estimates:\n",
       "mean of x mean of y \n",
       "0.9017377 0.8949316 \n"
      ]
     },
     "metadata": {},
     "output_type": "display_data"
    }
   ],
   "source": [
    "t.test(diag(paired.cor.tri[rownames(paired.coldata[paired.coldata$v == 1, ]),\n",
    "                         rownames(paired.coldata[paired.coldata$v == 2, ])]),\n",
    "       na.omit(as.vector(paired.cor.tri))\n",
    "      )"
   ]
  },
  {
   "cell_type": "code",
   "execution_count": null,
   "id": "15259af3",
   "metadata": {},
   "outputs": [],
   "source": []
  }
 ],
 "metadata": {
  "kernelspec": {
   "display_name": "cfn_final_R",
   "language": "R",
   "name": "cfn_final_r"
  },
  "language_info": {
   "codemirror_mode": "r",
   "file_extension": ".r",
   "mimetype": "text/x-r-source",
   "name": "R",
   "pygments_lexer": "r",
   "version": "4.2.3"
  }
 },
 "nbformat": 4,
 "nbformat_minor": 5
}
