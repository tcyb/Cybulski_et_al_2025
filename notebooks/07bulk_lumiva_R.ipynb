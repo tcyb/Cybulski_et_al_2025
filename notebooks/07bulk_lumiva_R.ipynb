{
 "cells": [
  {
   "cell_type": "code",
   "execution_count": 1,
   "id": "266414e5",
   "metadata": {
    "scrolled": true
   },
   "outputs": [
    {
     "name": "stderr",
     "output_type": "stream",
     "text": [
      "Loading required package: S4Vectors\n",
      "\n",
      "Loading required package: stats4\n",
      "\n",
      "Loading required package: BiocGenerics\n",
      "\n",
      "\n",
      "Attaching package: ‘BiocGenerics’\n",
      "\n",
      "\n",
      "The following objects are masked from ‘package:stats’:\n",
      "\n",
      "    IQR, mad, sd, var, xtabs\n",
      "\n",
      "\n",
      "The following objects are masked from ‘package:base’:\n",
      "\n",
      "    anyDuplicated, aperm, append, as.data.frame, basename, cbind,\n",
      "    colnames, dirname, do.call, duplicated, eval, evalq, Filter, Find,\n",
      "    get, grep, grepl, intersect, is.unsorted, lapply, Map, mapply,\n",
      "    match, mget, order, paste, pmax, pmax.int, pmin, pmin.int,\n",
      "    Position, rank, rbind, Reduce, rownames, sapply, setdiff, sort,\n",
      "    table, tapply, union, unique, unsplit, which.max, which.min\n",
      "\n",
      "\n",
      "\n",
      "Attaching package: ‘S4Vectors’\n",
      "\n",
      "\n",
      "The following objects are masked from ‘package:base’:\n",
      "\n",
      "    expand.grid, I, unname\n",
      "\n",
      "\n",
      "Loading required package: IRanges\n",
      "\n",
      "Loading required package: GenomicRanges\n",
      "\n",
      "Loading required package: GenomeInfoDb\n",
      "\n",
      "Loading required package: SummarizedExperiment\n",
      "\n",
      "Loading required package: MatrixGenerics\n",
      "\n",
      "Loading required package: matrixStats\n",
      "\n",
      "\n",
      "Attaching package: ‘MatrixGenerics’\n",
      "\n",
      "\n",
      "The following objects are masked from ‘package:matrixStats’:\n",
      "\n",
      "    colAlls, colAnyNAs, colAnys, colAvgsPerRowSet, colCollapse,\n",
      "    colCounts, colCummaxs, colCummins, colCumprods, colCumsums,\n",
      "    colDiffs, colIQRDiffs, colIQRs, colLogSumExps, colMadDiffs,\n",
      "    colMads, colMaxs, colMeans2, colMedians, colMins, colOrderStats,\n",
      "    colProds, colQuantiles, colRanges, colRanks, colSdDiffs, colSds,\n",
      "    colSums2, colTabulates, colVarDiffs, colVars, colWeightedMads,\n",
      "    colWeightedMeans, colWeightedMedians, colWeightedSds,\n",
      "    colWeightedVars, rowAlls, rowAnyNAs, rowAnys, rowAvgsPerColSet,\n",
      "    rowCollapse, rowCounts, rowCummaxs, rowCummins, rowCumprods,\n",
      "    rowCumsums, rowDiffs, rowIQRDiffs, rowIQRs, rowLogSumExps,\n",
      "    rowMadDiffs, rowMads, rowMaxs, rowMeans2, rowMedians, rowMins,\n",
      "    rowOrderStats, rowProds, rowQuantiles, rowRanges, rowRanks,\n",
      "    rowSdDiffs, rowSds, rowSums2, rowTabulates, rowVarDiffs, rowVars,\n",
      "    rowWeightedMads, rowWeightedMeans, rowWeightedMedians,\n",
      "    rowWeightedSds, rowWeightedVars\n",
      "\n",
      "\n",
      "Loading required package: Biobase\n",
      "\n",
      "Welcome to Bioconductor\n",
      "\n",
      "    Vignettes contain introductory material; view with\n",
      "    'browseVignettes()'. To cite Bioconductor, see\n",
      "    'citation(\"Biobase\")', and for packages 'citation(\"pkgname\")'.\n",
      "\n",
      "\n",
      "\n",
      "Attaching package: ‘Biobase’\n",
      "\n",
      "\n",
      "The following object is masked from ‘package:MatrixGenerics’:\n",
      "\n",
      "    rowMedians\n",
      "\n",
      "\n",
      "The following objects are masked from ‘package:matrixStats’:\n",
      "\n",
      "    anyMissing, rowMedians\n",
      "\n",
      "\n",
      "\n",
      "Attaching package: ‘dplyr’\n",
      "\n",
      "\n",
      "The following object is masked from ‘package:Biobase’:\n",
      "\n",
      "    combine\n",
      "\n",
      "\n",
      "The following object is masked from ‘package:matrixStats’:\n",
      "\n",
      "    count\n",
      "\n",
      "\n",
      "The following objects are masked from ‘package:GenomicRanges’:\n",
      "\n",
      "    intersect, setdiff, union\n",
      "\n",
      "\n",
      "The following object is masked from ‘package:GenomeInfoDb’:\n",
      "\n",
      "    intersect\n",
      "\n",
      "\n",
      "The following objects are masked from ‘package:IRanges’:\n",
      "\n",
      "    collapse, desc, intersect, setdiff, slice, union\n",
      "\n",
      "\n",
      "The following objects are masked from ‘package:S4Vectors’:\n",
      "\n",
      "    first, intersect, rename, setdiff, setequal, union\n",
      "\n",
      "\n",
      "The following objects are masked from ‘package:BiocGenerics’:\n",
      "\n",
      "    combine, intersect, setdiff, union\n",
      "\n",
      "\n",
      "The following objects are masked from ‘package:stats’:\n",
      "\n",
      "    filter, lag\n",
      "\n",
      "\n",
      "The following objects are masked from ‘package:base’:\n",
      "\n",
      "    intersect, setdiff, setequal, union\n",
      "\n",
      "\n",
      "── \u001b[1mAttaching core tidyverse packages\u001b[22m ──────────────────────── tidyverse 2.0.0 ──\n",
      "\u001b[32m✔\u001b[39m \u001b[34mforcats  \u001b[39m 1.0.0     \u001b[32m✔\u001b[39m \u001b[34mstringr  \u001b[39m 1.5.1\n",
      "\u001b[32m✔\u001b[39m \u001b[34mlubridate\u001b[39m 1.9.3     \u001b[32m✔\u001b[39m \u001b[34mtibble   \u001b[39m 3.2.1\n",
      "\u001b[32m✔\u001b[39m \u001b[34mpurrr    \u001b[39m 1.0.2     \u001b[32m✔\u001b[39m \u001b[34mtidyr    \u001b[39m 1.3.1\n",
      "\u001b[32m✔\u001b[39m \u001b[34mreadr    \u001b[39m 2.1.5     \n",
      "── \u001b[1mConflicts\u001b[22m ────────────────────────────────────────── tidyverse_conflicts() ──\n",
      "\u001b[31m✖\u001b[39m \u001b[34mlubridate\u001b[39m::\u001b[32m%within%()\u001b[39m masks \u001b[34mIRanges\u001b[39m::%within%()\n",
      "\u001b[31m✖\u001b[39m \u001b[34mdplyr\u001b[39m::\u001b[32mcollapse()\u001b[39m     masks \u001b[34mIRanges\u001b[39m::collapse()\n",
      "\u001b[31m✖\u001b[39m \u001b[34mdplyr\u001b[39m::\u001b[32mcombine()\u001b[39m      masks \u001b[34mBiobase\u001b[39m::combine(), \u001b[34mBiocGenerics\u001b[39m::combine()\n",
      "\u001b[31m✖\u001b[39m \u001b[34mdplyr\u001b[39m::\u001b[32mcount()\u001b[39m        masks \u001b[34mmatrixStats\u001b[39m::count()\n",
      "\u001b[31m✖\u001b[39m \u001b[34mdplyr\u001b[39m::\u001b[32mdesc()\u001b[39m         masks \u001b[34mIRanges\u001b[39m::desc()\n",
      "\u001b[31m✖\u001b[39m \u001b[34mtidyr\u001b[39m::\u001b[32mexpand()\u001b[39m       masks \u001b[34mS4Vectors\u001b[39m::expand()\n",
      "\u001b[31m✖\u001b[39m \u001b[34mdplyr\u001b[39m::\u001b[32mfilter()\u001b[39m       masks \u001b[34mstats\u001b[39m::filter()\n",
      "\u001b[31m✖\u001b[39m \u001b[34mdplyr\u001b[39m::\u001b[32mfirst()\u001b[39m        masks \u001b[34mS4Vectors\u001b[39m::first()\n",
      "\u001b[31m✖\u001b[39m \u001b[34mdplyr\u001b[39m::\u001b[32mlag()\u001b[39m          masks \u001b[34mstats\u001b[39m::lag()\n",
      "\u001b[31m✖\u001b[39m \u001b[34mggplot2\u001b[39m::\u001b[32mPosition()\u001b[39m   masks \u001b[34mBiocGenerics\u001b[39m::Position(), \u001b[34mbase\u001b[39m::Position()\n",
      "\u001b[31m✖\u001b[39m \u001b[34mpurrr\u001b[39m::\u001b[32mreduce()\u001b[39m       masks \u001b[34mGenomicRanges\u001b[39m::reduce(), \u001b[34mIRanges\u001b[39m::reduce()\n",
      "\u001b[31m✖\u001b[39m \u001b[34mdplyr\u001b[39m::\u001b[32mrename()\u001b[39m       masks \u001b[34mS4Vectors\u001b[39m::rename()\n",
      "\u001b[31m✖\u001b[39m \u001b[34mlubridate\u001b[39m::\u001b[32msecond()\u001b[39m   masks \u001b[34mS4Vectors\u001b[39m::second()\n",
      "\u001b[31m✖\u001b[39m \u001b[34mlubridate\u001b[39m::\u001b[32msecond<-()\u001b[39m masks \u001b[34mS4Vectors\u001b[39m::second<-()\n",
      "\u001b[31m✖\u001b[39m \u001b[34mdplyr\u001b[39m::\u001b[32mslice()\u001b[39m        masks \u001b[34mIRanges\u001b[39m::slice()\n",
      "\u001b[36mℹ\u001b[39m Use the conflicted package (\u001b[3m\u001b[34m<http://conflicted.r-lib.org/>\u001b[39m\u001b[23m) to force all conflicts to become errors\n",
      "\n",
      "\n",
      "Registered S3 methods overwritten by 'treeio':\n",
      "  method              from    \n",
      "  MRCA.phylo          tidytree\n",
      "  MRCA.treedata       tidytree\n",
      "  Nnode.treedata      tidytree\n",
      "  Ntip.treedata       tidytree\n",
      "  ancestor.phylo      tidytree\n",
      "  ancestor.treedata   tidytree\n",
      "  child.phylo         tidytree\n",
      "  child.treedata      tidytree\n",
      "  full_join.phylo     tidytree\n",
      "  full_join.treedata  tidytree\n",
      "  groupClade.phylo    tidytree\n",
      "  groupClade.treedata tidytree\n",
      "  groupOTU.phylo      tidytree\n",
      "  groupOTU.treedata   tidytree\n",
      "  is.rooted.treedata  tidytree\n",
      "  nodeid.phylo        tidytree\n",
      "  nodeid.treedata     tidytree\n",
      "  nodelab.phylo       tidytree\n",
      "  nodelab.treedata    tidytree\n",
      "  offspring.phylo     tidytree\n",
      "  offspring.treedata  tidytree\n",
      "  parent.phylo        tidytree\n",
      "  parent.treedata     tidytree\n",
      "  root.treedata       tidytree\n",
      "  rootnode.phylo      tidytree\n",
      "  sibling.phylo       tidytree\n",
      "\n",
      "clusterProfiler v4.6.0  For help: https://yulab-smu.top/biomedical-knowledge-mining-book/\n",
      "\n",
      "If you use clusterProfiler in published research, please cite:\n",
      "T Wu, E Hu, S Xu, M Chen, P Guo, Z Dai, T Feng, L Zhou, W Tang, L Zhan, X Fu, S Liu, X Bo, and G Yu. clusterProfiler 4.0: A universal enrichment tool for interpreting omics data. The Innovation. 2021, 2(3):100141\n",
      "\n",
      "\n",
      "Attaching package: ‘clusterProfiler’\n",
      "\n",
      "\n",
      "The following object is masked from ‘package:purrr’:\n",
      "\n",
      "    simplify\n",
      "\n",
      "\n",
      "The following object is masked from ‘package:IRanges’:\n",
      "\n",
      "    slice\n",
      "\n",
      "\n",
      "The following object is masked from ‘package:S4Vectors’:\n",
      "\n",
      "    rename\n",
      "\n",
      "\n",
      "The following object is masked from ‘package:stats’:\n",
      "\n",
      "    filter\n",
      "\n",
      "\n",
      "Loading required package: AnnotationDbi\n",
      "\n",
      "\n",
      "Attaching package: ‘AnnotationDbi’\n",
      "\n",
      "\n",
      "The following object is masked from ‘package:clusterProfiler’:\n",
      "\n",
      "    select\n",
      "\n",
      "\n",
      "The following object is masked from ‘package:dplyr’:\n",
      "\n",
      "    select\n",
      "\n",
      "\n",
      "\n",
      "\n",
      "Loading required package: grid\n",
      "\n"
     ]
    }
   ],
   "source": [
    "library(DESeq2)\n",
    "library(tximport)\n",
    "library(dplyr)\n",
    "library(ggplot2)\n",
    "library(ggrepel)\n",
    "library(tidyverse)\n",
    "library(pheatmap)\n",
    "library(ggthemes)\n",
    "library(clusterProfiler)\n",
    "library(enrichplot)\n",
    "library(\"org.Hs.eg.db\")\n",
    "library(ggvenn)"
   ]
  },
  {
   "cell_type": "code",
   "execution_count": 2,
   "id": "90f03d36",
   "metadata": {},
   "outputs": [
    {
     "data": {
      "text/plain": [
       "R version 4.2.3 (2023-03-15)\n",
       "Platform: x86_64-conda-linux-gnu (64-bit)\n",
       "Running under: Red Hat Enterprise Linux Server 7.9 (Maipo)\n",
       "\n",
       "Matrix products: default\n",
       "BLAS/LAPACK: /home/trc891/.conda/envs/cfn_final/lib/libopenblasp-r0.3.29.so\n",
       "\n",
       "locale:\n",
       " [1] LC_CTYPE=en_US.UTF-8       LC_NUMERIC=C              \n",
       " [3] LC_TIME=en_US.UTF-8        LC_COLLATE=en_US.UTF-8    \n",
       " [5] LC_MONETARY=en_US.UTF-8    LC_MESSAGES=en_US.UTF-8   \n",
       " [7] LC_PAPER=en_US.UTF-8       LC_NAME=C                 \n",
       " [9] LC_ADDRESS=C               LC_TELEPHONE=C            \n",
       "[11] LC_MEASUREMENT=en_US.UTF-8 LC_IDENTIFICATION=C       \n",
       "\n",
       "attached base packages:\n",
       "[1] grid      stats4    stats     graphics  grDevices utils     datasets \n",
       "[8] methods   base     \n",
       "\n",
       "other attached packages:\n",
       " [1] ggvenn_0.1.10               org.Hs.eg.db_3.16.0        \n",
       " [3] AnnotationDbi_1.60.0        enrichplot_1.18.0          \n",
       " [5] clusterProfiler_4.6.0       ggthemes_5.1.0             \n",
       " [7] pheatmap_1.0.12             lubridate_1.9.3            \n",
       " [9] forcats_1.0.0               stringr_1.5.1              \n",
       "[11] purrr_1.0.2                 readr_2.1.5                \n",
       "[13] tidyr_1.3.1                 tibble_3.2.1               \n",
       "[15] tidyverse_2.0.0             ggrepel_0.9.5              \n",
       "[17] ggplot2_3.5.1               dplyr_1.1.4                \n",
       "[19] tximport_1.26.0             DESeq2_1.38.0              \n",
       "[21] SummarizedExperiment_1.28.0 Biobase_2.58.0             \n",
       "[23] MatrixGenerics_1.10.0       matrixStats_1.3.0          \n",
       "[25] GenomicRanges_1.50.0        GenomeInfoDb_1.34.9        \n",
       "[27] IRanges_2.32.0              S4Vectors_0.36.0           \n",
       "[29] BiocGenerics_0.44.0        \n",
       "\n",
       "loaded via a namespace (and not attached):\n",
       "  [1] ggtree_3.6.0           fgsea_1.24.0           colorspace_2.1-0      \n",
       "  [4] gson_0.1.0             IRdisplay_1.1          qvalue_2.30.0         \n",
       "  [7] XVector_0.38.0         fs_1.6.4               base64enc_0.1-3       \n",
       " [10] aplot_0.2.3            farver_2.1.2           graphlayouts_1.1.0    \n",
       " [13] bit64_4.0.5            scatterpie_0.2.3       fansi_1.0.6           \n",
       " [16] codetools_0.2-20       splines_4.2.3          cachem_1.1.0          \n",
       " [19] GOSemSim_2.24.0        geneplotter_1.76.0     polyclip_1.10-6       \n",
       " [22] IRkernel_1.3.2         jsonlite_1.8.8         annotate_1.76.0       \n",
       " [25] GO.db_3.16.0           png_0.1-8              ggforce_0.4.2         \n",
       " [28] compiler_4.2.3         httr_1.4.7             lazyeval_0.2.2        \n",
       " [31] Matrix_1.6-5           fastmap_1.2.0          cli_3.6.3             \n",
       " [34] tweenr_2.0.3           htmltools_0.5.8.1      tools_4.2.3           \n",
       " [37] igraph_2.0.3           gtable_0.3.5           glue_1.7.0            \n",
       " [40] GenomeInfoDbData_1.2.9 reshape2_1.4.4         fastmatch_1.1-4       \n",
       " [43] Rcpp_1.0.12            vctrs_0.6.5            Biostrings_2.66.0     \n",
       " [46] nlme_3.1-165           ape_5.8                ggraph_2.1.0          \n",
       " [49] timechange_0.3.0       lifecycle_1.0.4        XML_3.99-0.17         \n",
       " [52] DOSE_3.24.0            zlibbioc_1.44.0        MASS_7.3-60.0.1       \n",
       " [55] scales_1.3.0           tidygraph_1.3.0        hms_1.1.3             \n",
       " [58] parallel_4.2.3         RColorBrewer_1.1-3     memoise_2.0.1         \n",
       " [61] gridExtra_2.3          downloader_0.4         ggfun_0.1.5           \n",
       " [64] HDO.db_0.99.1          yulab.utils_0.1.4      stringi_1.8.4         \n",
       " [67] RSQLite_2.3.4          genefilter_1.80.0      tidytree_0.4.6        \n",
       " [70] BiocParallel_1.32.5    repr_1.1.7             rlang_1.1.4           \n",
       " [73] pkgconfig_2.0.3        bitops_1.0-7           evaluate_0.24.0       \n",
       " [76] lattice_0.22-6         treeio_1.22.0          patchwork_1.2.0       \n",
       " [79] shadowtext_0.1.3       cowplot_1.1.3          bit_4.0.5             \n",
       " [82] tidyselect_1.2.1       plyr_1.8.9             magrittr_2.0.3        \n",
       " [85] R6_2.5.1               generics_0.1.3         pbdZMQ_0.3-11         \n",
       " [88] DelayedArray_0.24.0    DBI_1.2.3              pillar_1.9.0          \n",
       " [91] withr_3.0.0            survival_3.7-0         KEGGREST_1.38.0       \n",
       " [94] RCurl_1.98-1.14        crayon_1.5.3           uuid_1.2-0            \n",
       " [97] utf8_1.2.4             tzdb_0.4.0             viridis_0.6.5         \n",
       "[100] locfit_1.5-9.9         data.table_1.15.4      blob_1.2.4            \n",
       "[103] digest_0.6.36          xtable_1.8-4           gridGraphics_0.5-1    \n",
       "[106] munsell_0.5.1          ggplotify_0.1.2        viridisLite_0.4.2     "
      ]
     },
     "metadata": {},
     "output_type": "display_data"
    }
   ],
   "source": [
    "sessionInfo()"
   ]
  },
  {
   "cell_type": "code",
   "execution_count": 3,
   "id": "0b419af1",
   "metadata": {},
   "outputs": [],
   "source": [
    "options(repr.matrix.max.rows=600, repr.matrix.max.cols=200)"
   ]
  },
  {
   "cell_type": "code",
   "execution_count": 4,
   "id": "f8e3245c",
   "metadata": {},
   "outputs": [],
   "source": [
    "plotPCA_manual = function(object, \n",
    "                          intgroup=\"condition\", #essentially ignored if merge_metadata = TRUE\n",
    "                          ntop=500, \n",
    "                          pcs = 2,\n",
    "                          merge_metadata = FALSE,\n",
    "                          return_loadings = FALSE,\n",
    "                          mart_name = \"mmusculus\",\n",
    "                          custom_annotation = NULL)\n",
    "{\n",
    "#   require(tidyverse)\n",
    "  \n",
    "  # calculate the variance for each gene\n",
    "  rv <- rowVars(assay(object), useNames=TRUE)\n",
    "  \n",
    "  # select the ntop genes by variance\n",
    "  select <- order(rv, decreasing=TRUE)[seq_len(min(ntop, length(rv)))]\n",
    "  \n",
    "  # perform a PCA on the data in assay(x) for the selected genes\n",
    "  pca <- prcomp(t(assay(object)[select,]))\n",
    "  \n",
    "  # the contribution to the total variance for each component\n",
    "  percentVar <- pca$sdev^2 / sum( pca$sdev^2 )\n",
    "  \n",
    "  if (!all(intgroup %in% names(colData(object)))) {\n",
    "    stop(\"the argument 'intgroup' should specify columns of colData(dds)\")\n",
    "  }\n",
    "  \n",
    "  intgroup.df <- as.data.frame(colData(object)[, intgroup, drop=FALSE])\n",
    "  \n",
    "  # add the intgroup factors together to create a new grouping factor\n",
    "  group <- if (length(intgroup) > 1) {\n",
    "    factor(apply( intgroup.df, 1, paste, collapse=\":\"))\n",
    "  } else {\n",
    "    colData(object)[[intgroup]]\n",
    "  }\n",
    "  \n",
    "  # assemble the data for the plot\n",
    "  d <- data.frame(group=group, intgroup.df, name=colnames(object))\n",
    "  tmp = pca$x[, 1:pcs]\n",
    "  colnames(tmp) = paste0(\"PC\", 1:pcs)\n",
    "  d = cbind(tmp, d)\n",
    "  attr(d, \"percentVar\") <- percentVar[1:pcs]\n",
    "  \n",
    "  if(merge_metadata == TRUE)\n",
    "  {\n",
    "    md = colData(object) %>% \n",
    "      as.data.frame() %>% \n",
    "      rownames_to_column(\"sample\")\n",
    "    d = d %>% \n",
    "      dplyr::select(-group) %>% \n",
    "      dplyr::rename(sample = name) %>% \n",
    "      left_join(., md) %>% \n",
    "      column_to_rownames(\"sample\")\n",
    "  }\n",
    "      \n",
    "  \n",
    "  plt = ggplot(data=d, aes_string(x=\"PC1\", y=\"PC2\", color=group)) + geom_point(size=3) + \n",
    "    xlab(paste0(\"PC1: \",round(percentVar[1] * 100),\"% variance\")) +\n",
    "    ylab(paste0(\"PC2: \",round(percentVar[2] * 100),\"% variance\")) +\n",
    "    coord_fixed()\n",
    "  \n",
    "  #if requested, return loadings in human-readable format\n",
    "  if(return_loadings == TRUE)\n",
    "  {\n",
    "    if(is.null(custom_annotation))\n",
    "    {\n",
    "      require(biomaRt)\n",
    "      mart = useMart(\"ensembl\", paste0(mart_name, \"_gene_ensembl\"))\n",
    "      conv = getBM(attributes = c(\"ensembl_gene_id\", \"external_gene_name\"),\n",
    "                   mart = mart)\n",
    "    } else\n",
    "    {\n",
    "      conv = custom_annotation\n",
    "    }\n",
    "    \n",
    "    loadings = pca$rotation %>% \n",
    "      as.data.frame() %>% \n",
    "      rownames_to_column(\"ensembl_gene_id\") %>% \n",
    "      left_join(., conv) %>% \n",
    "      dplyr::relocate(ensembl_gene_id, external_gene_name) %>% \n",
    "      arrange(desc(PC1))\n",
    "  } else\n",
    "  {\n",
    "    loadings = NULL\n",
    "  }\n",
    "  \n",
    "  #output percent variance for each PC as a tidy data frame\n",
    "  percent_var = data.frame(component = 1:pcs, percent_var = round(percentVar[1:pcs] * 100))\n",
    "  \n",
    "  return(list(pca = pca, data = d, plot = plt, loadings = loadings, percent_var = percent_var))\n",
    "}"
   ]
  },
  {
   "cell_type": "code",
   "execution_count": 5,
   "id": "157581b0",
   "metadata": {},
   "outputs": [],
   "source": [
    "sfig1.data.dir = \"/home/trc891/projects/cyb/2022-CFnose/data/02ireland_sala\"\n",
    "sfig1.out.dir = \"/home/trc891/projects/cyb/2022-CFnose/data/10paper_figures/sfig1\""
   ]
  },
  {
   "cell_type": "code",
   "execution_count": 6,
   "id": "1ac1da4d",
   "metadata": {},
   "outputs": [],
   "source": [
    "# load demographic info\n",
    "sfig1.demo <- read.csv(file.path(sfig1.data.dir, \"ireland_samples_20250305.csv\"))\n",
    "sfig1.demo$Subj <- as.factor(sfig1.demo$Subj)"
   ]
  },
  {
   "cell_type": "code",
   "execution_count": 7,
   "id": "e142da93",
   "metadata": {},
   "outputs": [
    {
     "data": {
      "text/html": [
       "<table class=\"dataframe\">\n",
       "<caption>A data.frame: 24 × 5</caption>\n",
       "<thead>\n",
       "\t<tr><th scope=col>Sample</th><th scope=col>Subj</th><th scope=col>Age</th><th scope=col>Sex</th><th scope=col>V</th></tr>\n",
       "\t<tr><th scope=col>&lt;chr&gt;</th><th scope=col>&lt;fct&gt;</th><th scope=col>&lt;int&gt;</th><th scope=col>&lt;chr&gt;</th><th scope=col>&lt;chr&gt;</th></tr>\n",
       "</thead>\n",
       "<tbody>\n",
       "\t<tr><td>CF_Ireland_101_V1</td><td>101</td><td>23</td><td>M </td><td>V1</td></tr>\n",
       "\t<tr><td>CF_Ireland_101_V2</td><td>101</td><td>23</td><td>M </td><td>V2</td></tr>\n",
       "\t<tr><td>CF_Ireland_102_V1</td><td>102</td><td>32</td><td>M </td><td>V1</td></tr>\n",
       "\t<tr><td>CF_Ireland_102_V2</td><td>102</td><td>32</td><td>M </td><td>V2</td></tr>\n",
       "\t<tr><td>CF_Ireland_103_V1</td><td>103</td><td>29</td><td>M </td><td>V1</td></tr>\n",
       "\t<tr><td>CF_Ireland_103_V2</td><td>103</td><td>29</td><td>M </td><td>V2</td></tr>\n",
       "\t<tr><td>CF_Ireland_104_V1</td><td>104</td><td>31</td><td>F </td><td>V1</td></tr>\n",
       "\t<tr><td>CF_Ireland_104_V2</td><td>104</td><td>31</td><td>F </td><td>V2</td></tr>\n",
       "\t<tr><td>CF_Ireland_105   </td><td>105</td><td>NA</td><td>NA</td><td>NA</td></tr>\n",
       "\t<tr><td>CF_Ireland_106   </td><td>106</td><td>NA</td><td>NA</td><td>NA</td></tr>\n",
       "\t<tr><td>CF_Ireland_107_V1</td><td>107</td><td>26</td><td>M </td><td>V1</td></tr>\n",
       "\t<tr><td>CF_Ireland_107_V2</td><td>107</td><td>26</td><td>M </td><td>V2</td></tr>\n",
       "\t<tr><td>CF_Ireland_108   </td><td>108</td><td>NA</td><td>NA</td><td>NA</td></tr>\n",
       "\t<tr><td>CF_Ireland_109_V1</td><td>109</td><td>32</td><td>M </td><td>V1</td></tr>\n",
       "\t<tr><td>CF_Ireland_109_V2</td><td>109</td><td>32</td><td>M </td><td>V2</td></tr>\n",
       "\t<tr><td>CF_Ireland_110_V1</td><td>110</td><td>35</td><td>F </td><td>V1</td></tr>\n",
       "\t<tr><td>CF_Ireland_110_V2</td><td>110</td><td>35</td><td>F </td><td>V2</td></tr>\n",
       "\t<tr><td>CF_Ireland_111_V1</td><td>111</td><td>28</td><td>M </td><td>V1</td></tr>\n",
       "\t<tr><td>CF_Ireland_111_V2</td><td>111</td><td>29</td><td>M </td><td>V2</td></tr>\n",
       "\t<tr><td>CF_Ireland_112_V1</td><td>112</td><td>35</td><td>F </td><td>V1</td></tr>\n",
       "\t<tr><td>CF_Ireland_112_V2</td><td>112</td><td>35</td><td>F </td><td>V2</td></tr>\n",
       "\t<tr><td>CF_Ireland_113   </td><td>113</td><td>NA</td><td>NA</td><td>NA</td></tr>\n",
       "\t<tr><td>uhRNA1           </td><td>NA </td><td>NA</td><td>NA</td><td>NA</td></tr>\n",
       "\t<tr><td>uhRNA2           </td><td>NA </td><td>NA</td><td>NA</td><td>NA</td></tr>\n",
       "</tbody>\n",
       "</table>\n"
      ],
      "text/latex": [
       "A data.frame: 24 × 5\n",
       "\\begin{tabular}{lllll}\n",
       " Sample & Subj & Age & Sex & V\\\\\n",
       " <chr> & <fct> & <int> & <chr> & <chr>\\\\\n",
       "\\hline\n",
       "\t CF\\_Ireland\\_101\\_V1 & 101 & 23 & M  & V1\\\\\n",
       "\t CF\\_Ireland\\_101\\_V2 & 101 & 23 & M  & V2\\\\\n",
       "\t CF\\_Ireland\\_102\\_V1 & 102 & 32 & M  & V1\\\\\n",
       "\t CF\\_Ireland\\_102\\_V2 & 102 & 32 & M  & V2\\\\\n",
       "\t CF\\_Ireland\\_103\\_V1 & 103 & 29 & M  & V1\\\\\n",
       "\t CF\\_Ireland\\_103\\_V2 & 103 & 29 & M  & V2\\\\\n",
       "\t CF\\_Ireland\\_104\\_V1 & 104 & 31 & F  & V1\\\\\n",
       "\t CF\\_Ireland\\_104\\_V2 & 104 & 31 & F  & V2\\\\\n",
       "\t CF\\_Ireland\\_105    & 105 & NA & NA & NA\\\\\n",
       "\t CF\\_Ireland\\_106    & 106 & NA & NA & NA\\\\\n",
       "\t CF\\_Ireland\\_107\\_V1 & 107 & 26 & M  & V1\\\\\n",
       "\t CF\\_Ireland\\_107\\_V2 & 107 & 26 & M  & V2\\\\\n",
       "\t CF\\_Ireland\\_108    & 108 & NA & NA & NA\\\\\n",
       "\t CF\\_Ireland\\_109\\_V1 & 109 & 32 & M  & V1\\\\\n",
       "\t CF\\_Ireland\\_109\\_V2 & 109 & 32 & M  & V2\\\\\n",
       "\t CF\\_Ireland\\_110\\_V1 & 110 & 35 & F  & V1\\\\\n",
       "\t CF\\_Ireland\\_110\\_V2 & 110 & 35 & F  & V2\\\\\n",
       "\t CF\\_Ireland\\_111\\_V1 & 111 & 28 & M  & V1\\\\\n",
       "\t CF\\_Ireland\\_111\\_V2 & 111 & 29 & M  & V2\\\\\n",
       "\t CF\\_Ireland\\_112\\_V1 & 112 & 35 & F  & V1\\\\\n",
       "\t CF\\_Ireland\\_112\\_V2 & 112 & 35 & F  & V2\\\\\n",
       "\t CF\\_Ireland\\_113    & 113 & NA & NA & NA\\\\\n",
       "\t uhRNA1            & NA  & NA & NA & NA\\\\\n",
       "\t uhRNA2            & NA  & NA & NA & NA\\\\\n",
       "\\end{tabular}\n"
      ],
      "text/markdown": [
       "\n",
       "A data.frame: 24 × 5\n",
       "\n",
       "| Sample &lt;chr&gt; | Subj &lt;fct&gt; | Age &lt;int&gt; | Sex &lt;chr&gt; | V &lt;chr&gt; |\n",
       "|---|---|---|---|---|\n",
       "| CF_Ireland_101_V1 | 101 | 23 | M  | V1 |\n",
       "| CF_Ireland_101_V2 | 101 | 23 | M  | V2 |\n",
       "| CF_Ireland_102_V1 | 102 | 32 | M  | V1 |\n",
       "| CF_Ireland_102_V2 | 102 | 32 | M  | V2 |\n",
       "| CF_Ireland_103_V1 | 103 | 29 | M  | V1 |\n",
       "| CF_Ireland_103_V2 | 103 | 29 | M  | V2 |\n",
       "| CF_Ireland_104_V1 | 104 | 31 | F  | V1 |\n",
       "| CF_Ireland_104_V2 | 104 | 31 | F  | V2 |\n",
       "| CF_Ireland_105    | 105 | NA | NA | NA |\n",
       "| CF_Ireland_106    | 106 | NA | NA | NA |\n",
       "| CF_Ireland_107_V1 | 107 | 26 | M  | V1 |\n",
       "| CF_Ireland_107_V2 | 107 | 26 | M  | V2 |\n",
       "| CF_Ireland_108    | 108 | NA | NA | NA |\n",
       "| CF_Ireland_109_V1 | 109 | 32 | M  | V1 |\n",
       "| CF_Ireland_109_V2 | 109 | 32 | M  | V2 |\n",
       "| CF_Ireland_110_V1 | 110 | 35 | F  | V1 |\n",
       "| CF_Ireland_110_V2 | 110 | 35 | F  | V2 |\n",
       "| CF_Ireland_111_V1 | 111 | 28 | M  | V1 |\n",
       "| CF_Ireland_111_V2 | 111 | 29 | M  | V2 |\n",
       "| CF_Ireland_112_V1 | 112 | 35 | F  | V1 |\n",
       "| CF_Ireland_112_V2 | 112 | 35 | F  | V2 |\n",
       "| CF_Ireland_113    | 113 | NA | NA | NA |\n",
       "| uhRNA1            | NA  | NA | NA | NA |\n",
       "| uhRNA2            | NA  | NA | NA | NA |\n",
       "\n"
      ],
      "text/plain": [
       "   Sample            Subj Age Sex V \n",
       "1  CF_Ireland_101_V1 101  23  M   V1\n",
       "2  CF_Ireland_101_V2 101  23  M   V2\n",
       "3  CF_Ireland_102_V1 102  32  M   V1\n",
       "4  CF_Ireland_102_V2 102  32  M   V2\n",
       "5  CF_Ireland_103_V1 103  29  M   V1\n",
       "6  CF_Ireland_103_V2 103  29  M   V2\n",
       "7  CF_Ireland_104_V1 104  31  F   V1\n",
       "8  CF_Ireland_104_V2 104  31  F   V2\n",
       "9  CF_Ireland_105    105  NA  NA  NA\n",
       "10 CF_Ireland_106    106  NA  NA  NA\n",
       "11 CF_Ireland_107_V1 107  26  M   V1\n",
       "12 CF_Ireland_107_V2 107  26  M   V2\n",
       "13 CF_Ireland_108    108  NA  NA  NA\n",
       "14 CF_Ireland_109_V1 109  32  M   V1\n",
       "15 CF_Ireland_109_V2 109  32  M   V2\n",
       "16 CF_Ireland_110_V1 110  35  F   V1\n",
       "17 CF_Ireland_110_V2 110  35  F   V2\n",
       "18 CF_Ireland_111_V1 111  28  M   V1\n",
       "19 CF_Ireland_111_V2 111  29  M   V2\n",
       "20 CF_Ireland_112_V1 112  35  F   V1\n",
       "21 CF_Ireland_112_V2 112  35  F   V2\n",
       "22 CF_Ireland_113    113  NA  NA  NA\n",
       "23 uhRNA1            NA   NA  NA  NA\n",
       "24 uhRNA2            NA   NA  NA  NA"
      ]
     },
     "metadata": {},
     "output_type": "display_data"
    }
   ],
   "source": [
    "sfig1.demo"
   ]
  },
  {
   "cell_type": "code",
   "execution_count": 8,
   "id": "37e3a596",
   "metadata": {},
   "outputs": [
    {
     "data": {
      "text/plain": [
       "               Sample        Subj            Age          Sex        V    \n",
       " CF_Ireland_101_V1: 1   Min.   :101.0   Min.   :23.00   F   : 6   V1  :9  \n",
       " CF_Ireland_101_V2: 1   1st Qu.:103.2   1st Qu.:28.25   M   :12   V2  :9  \n",
       " CF_Ireland_102_V1: 1   Median :107.0   Median :31.00   NA's: 6   NA's:6  \n",
       " CF_Ireland_102_V2: 1   Mean   :106.8   Mean   :30.17                     \n",
       " CF_Ireland_103_V1: 1   3rd Qu.:110.0   3rd Qu.:32.00                     \n",
       " CF_Ireland_103_V2: 1   Max.   :113.0   Max.   :35.00                     \n",
       " (Other)          :18   NA's   :2       NA's   :6                         "
      ]
     },
     "metadata": {},
     "output_type": "display_data"
    }
   ],
   "source": [
    "summary(type.convert(sfig1.demo, as.is=FALSE))"
   ]
  },
  {
   "cell_type": "code",
   "execution_count": 9,
   "id": "77877317",
   "metadata": {},
   "outputs": [
    {
     "data": {
      "text/plain": [
       "    Sample               Subj        Age            Sex           \n",
       " Length:18          101    :2   Min.   :23.00   Length:18         \n",
       " Class :character   102    :2   1st Qu.:28.25   Class :character  \n",
       " Mode  :character   103    :2   Median :31.00   Mode  :character  \n",
       "                    104    :2   Mean   :30.17                     \n",
       "                    107    :2   3rd Qu.:32.00                     \n",
       "                    109    :2   Max.   :35.00                     \n",
       "                    (Other):6                                     \n",
       "      V            \n",
       " Length:18         \n",
       " Class :character  \n",
       " Mode  :character  \n",
       "                   \n",
       "                   \n",
       "                   \n",
       "                   "
      ]
     },
     "metadata": {},
     "output_type": "display_data"
    }
   ],
   "source": [
    "serial.demo <- sfig1.demo[complete.cases(sfig1.demo), ]\n",
    "summary(serial.demo)"
   ]
  },
  {
   "cell_type": "markdown",
   "id": "e981c528",
   "metadata": {},
   "source": [
    "## Demographics"
   ]
  },
  {
   "cell_type": "code",
   "execution_count": 10,
   "id": "0db1b01b",
   "metadata": {},
   "outputs": [],
   "source": [
    "#cf.demo <- type.convert(fig1.demo.sel[fig1.demo.sel$Class == 'CF', ], as.is=FALSE)\n",
    "#summary(cf.demo)"
   ]
  },
  {
   "cell_type": "code",
   "execution_count": 11,
   "id": "1a50a309",
   "metadata": {},
   "outputs": [],
   "source": [
    "#hv.demo <- type.convert(fig1.demo.sel[fig1.demo.sel$Class == 'HV', ], as.is=FALSE)\n",
    "#summary(hv.demo)"
   ]
  },
  {
   "cell_type": "markdown",
   "id": "ff9545cc",
   "metadata": {},
   "source": [
    "## Load selected Salmon output"
   ]
  },
  {
   "cell_type": "code",
   "execution_count": 12,
   "id": "18f131dd",
   "metadata": {},
   "outputs": [
    {
     "data": {
      "text/html": [
       "TRUE"
      ],
      "text/latex": [
       "TRUE"
      ],
      "text/markdown": [
       "TRUE"
      ],
      "text/plain": [
       "[1] TRUE"
      ]
     },
     "metadata": {},
     "output_type": "display_data"
    }
   ],
   "source": [
    "# generate a list - salmon count filename for each sample\n",
    "serial.files <- file.path(sfig1.data.dir, \"nf_rnaseq_grch38_v113_out\", \"star_salmon\", serial.demo$Sample, \"quant.sf\")\n",
    "names(serial.files) <- serial.demo$Sample\n",
    "all(file.exists(serial.files))"
   ]
  },
  {
   "cell_type": "code",
   "execution_count": 13,
   "id": "e3e95268",
   "metadata": {},
   "outputs": [
    {
     "data": {
      "text/html": [
       "<table class=\"dataframe\">\n",
       "<caption>A data.frame: 6 × 3</caption>\n",
       "<thead>\n",
       "\t<tr><th></th><th scope=col>TXNAME</th><th scope=col>GENEID</th><th scope=col>GENENAME</th></tr>\n",
       "\t<tr><th></th><th scope=col>&lt;chr&gt;</th><th scope=col>&lt;chr&gt;</th><th scope=col>&lt;chr&gt;</th></tr>\n",
       "</thead>\n",
       "<tbody>\n",
       "\t<tr><th scope=row>1</th><td>ENST00000511072</td><td>ENSG00000142611</td><td>PRDM16</td></tr>\n",
       "\t<tr><th scope=row>2</th><td>ENST00000607632</td><td>ENSG00000142611</td><td>PRDM16</td></tr>\n",
       "\t<tr><th scope=row>3</th><td>ENST00000378391</td><td>ENSG00000142611</td><td>PRDM16</td></tr>\n",
       "\t<tr><th scope=row>4</th><td>ENST00000514189</td><td>ENSG00000142611</td><td>PRDM16</td></tr>\n",
       "\t<tr><th scope=row>5</th><td>ENST00000270722</td><td>ENSG00000142611</td><td>PRDM16</td></tr>\n",
       "\t<tr><th scope=row>6</th><td>ENST00000512462</td><td>ENSG00000142611</td><td>PRDM16</td></tr>\n",
       "</tbody>\n",
       "</table>\n"
      ],
      "text/latex": [
       "A data.frame: 6 × 3\n",
       "\\begin{tabular}{r|lll}\n",
       "  & TXNAME & GENEID & GENENAME\\\\\n",
       "  & <chr> & <chr> & <chr>\\\\\n",
       "\\hline\n",
       "\t1 & ENST00000511072 & ENSG00000142611 & PRDM16\\\\\n",
       "\t2 & ENST00000607632 & ENSG00000142611 & PRDM16\\\\\n",
       "\t3 & ENST00000378391 & ENSG00000142611 & PRDM16\\\\\n",
       "\t4 & ENST00000514189 & ENSG00000142611 & PRDM16\\\\\n",
       "\t5 & ENST00000270722 & ENSG00000142611 & PRDM16\\\\\n",
       "\t6 & ENST00000512462 & ENSG00000142611 & PRDM16\\\\\n",
       "\\end{tabular}\n"
      ],
      "text/markdown": [
       "\n",
       "A data.frame: 6 × 3\n",
       "\n",
       "| <!--/--> | TXNAME &lt;chr&gt; | GENEID &lt;chr&gt; | GENENAME &lt;chr&gt; |\n",
       "|---|---|---|---|\n",
       "| 1 | ENST00000511072 | ENSG00000142611 | PRDM16 |\n",
       "| 2 | ENST00000607632 | ENSG00000142611 | PRDM16 |\n",
       "| 3 | ENST00000378391 | ENSG00000142611 | PRDM16 |\n",
       "| 4 | ENST00000514189 | ENSG00000142611 | PRDM16 |\n",
       "| 5 | ENST00000270722 | ENSG00000142611 | PRDM16 |\n",
       "| 6 | ENST00000512462 | ENSG00000142611 | PRDM16 |\n",
       "\n"
      ],
      "text/plain": [
       "  TXNAME          GENEID          GENENAME\n",
       "1 ENST00000511072 ENSG00000142611 PRDM16  \n",
       "2 ENST00000607632 ENSG00000142611 PRDM16  \n",
       "3 ENST00000378391 ENSG00000142611 PRDM16  \n",
       "4 ENST00000514189 ENSG00000142611 PRDM16  \n",
       "5 ENST00000270722 ENSG00000142611 PRDM16  \n",
       "6 ENST00000512462 ENSG00000142611 PRDM16  "
      ]
     },
     "metadata": {},
     "output_type": "display_data"
    }
   ],
   "source": [
    "tx2gene <- read.table(file.path(sfig1.data.dir, \"nf_rnaseq_grch38_v113_out\", \"star_salmon\", \"salmon_tx2gene.tsv\"))\n",
    "colnames(tx2gene) <- c(\"TXNAME\", \"GENEID\", \"GENENAME\")\n",
    "head(tx2gene)"
   ]
  },
  {
   "cell_type": "code",
   "execution_count": 14,
   "id": "b7f198c4",
   "metadata": {},
   "outputs": [
    {
     "name": "stderr",
     "output_type": "stream",
     "text": [
      "reading in files with read_tsv\n",
      "\n",
      "1 \n",
      "2 \n",
      "3 \n",
      "4 \n",
      "5 \n",
      "6 \n",
      "7 \n",
      "8 \n",
      "9 \n",
      "10 \n",
      "11 \n",
      "12 \n",
      "13 \n",
      "14 \n",
      "15 \n",
      "16 \n",
      "17 \n",
      "18 \n",
      "\n",
      "\n",
      "summarizing abundance\n",
      "\n",
      "summarizing counts\n",
      "\n",
      "summarizing length\n",
      "\n"
     ]
    },
    {
     "data": {
      "text/html": [
       "<style>\n",
       ".list-inline {list-style: none; margin:0; padding: 0}\n",
       ".list-inline>li {display: inline-block}\n",
       ".list-inline>li:not(:last-child)::after {content: \"\\00b7\"; padding: 0 .5ex}\n",
       "</style>\n",
       "<ol class=list-inline><li>'abundance'</li><li>'counts'</li><li>'length'</li><li>'countsFromAbundance'</li></ol>\n"
      ],
      "text/latex": [
       "\\begin{enumerate*}\n",
       "\\item 'abundance'\n",
       "\\item 'counts'\n",
       "\\item 'length'\n",
       "\\item 'countsFromAbundance'\n",
       "\\end{enumerate*}\n"
      ],
      "text/markdown": [
       "1. 'abundance'\n",
       "2. 'counts'\n",
       "3. 'length'\n",
       "4. 'countsFromAbundance'\n",
       "\n",
       "\n"
      ],
      "text/plain": [
       "[1] \"abundance\"           \"counts\"              \"length\"             \n",
       "[4] \"countsFromAbundance\""
      ]
     },
     "metadata": {},
     "output_type": "display_data"
    }
   ],
   "source": [
    "sfig1.txi <- tximport(serial.files, type=\"salmon\", tx2gene=tx2gene)\n",
    "names(sfig1.txi)"
   ]
  },
  {
   "cell_type": "code",
   "execution_count": 15,
   "id": "f11253bf",
   "metadata": {},
   "outputs": [
    {
     "name": "stderr",
     "output_type": "stream",
     "text": [
      "Warning message in DESeqDataSet(se, design = design, ignoreRank):\n",
      "“some variables in design formula are characters, converting to factors”\n",
      "factor levels were dropped which had no samples\n",
      "\n",
      "using counts and average transcript lengths from tximport\n",
      "\n"
     ]
    },
    {
     "data": {
      "text/plain": [
       "class: DESeqDataSet \n",
       "dim: 78932 18 \n",
       "metadata(1): version\n",
       "assays(2): counts avgTxLength\n",
       "rownames(78932): ENSG00000000003 ENSG00000000005 ... ENSG00000310556\n",
       "  ENSG00000310557\n",
       "rowData names(0):\n",
       "colnames(18): CF_Ireland_101_V1 CF_Ireland_101_V2 ... CF_Ireland_112_V1\n",
       "  CF_Ireland_112_V2\n",
       "colData names(4): v subj age sex"
      ]
     },
     "metadata": {},
     "output_type": "display_data"
    }
   ],
   "source": [
    "# generate DESeqDataSet dds from txi and samples\n",
    "sfig1.sampleTable <- data.frame(v=serial.demo$V,\n",
    "                                subj=serial.demo$Subj,\n",
    "                                age=serial.demo$Age,\n",
    "                                sex=serial.demo$Sex\n",
    "                               )\n",
    "\n",
    "rownames(sfig1.sampleTable) <- serial.demo$SampleID\n",
    "\n",
    "sfig1.dds <- DESeqDataSetFromTximport(sfig1.txi, sfig1.sampleTable, ~v+subj)\n",
    "\n",
    "sfig1.dds"
   ]
  },
  {
   "cell_type": "code",
   "execution_count": 16,
   "id": "3b1373c6",
   "metadata": {},
   "outputs": [],
   "source": [
    "# Remove genes with less than 11 counts across all samples\n",
    "sfig1.keep <- rowSums(counts(sfig1.dds)) >= 10\n",
    "\n",
    "sfig1.dds <- sfig1.dds[sfig1.keep, ]"
   ]
  },
  {
   "cell_type": "code",
   "execution_count": 17,
   "id": "95e87fbe",
   "metadata": {},
   "outputs": [
    {
     "data": {
      "text/plain": [
       "class: DESeqDataSet \n",
       "dim: 47482 18 \n",
       "metadata(1): version\n",
       "assays(2): counts avgTxLength\n",
       "rownames(47482): ENSG00000000003 ENSG00000000419 ... ENSG00000310554\n",
       "  ENSG00000310557\n",
       "rowData names(0):\n",
       "colnames(18): CF_Ireland_101_V1 CF_Ireland_101_V2 ... CF_Ireland_112_V1\n",
       "  CF_Ireland_112_V2\n",
       "colData names(4): v subj age sex"
      ]
     },
     "metadata": {},
     "output_type": "display_data"
    }
   ],
   "source": [
    "sfig1.dds"
   ]
  },
  {
   "cell_type": "code",
   "execution_count": 18,
   "id": "1fcdc481",
   "metadata": {},
   "outputs": [
    {
     "name": "stderr",
     "output_type": "stream",
     "text": [
      "using 'avgTxLength' from assays(dds), correcting for library size\n",
      "\n"
     ]
    },
    {
     "data": {
      "image/png": "[encoded data removed]",
      "text/plain": [
       "plot without title"
      ]
     },
     "metadata": {
      "image/png": {
       "height": 420,
       "width": 420
      }
     },
     "output_type": "display_data"
    }
   ],
   "source": [
    "d <- plotPCA(vst(sfig1.dds), intgroup = c('subj', 'v'), returnData=TRUE)\n",
    "percentVar <- round(100 * attr(d, \"percentVar\"))\n",
    "\n",
    "d.order <- d[order(d$v), ]\n",
    "\n",
    "ggplot(d, aes(x=PC1, y=PC2, color=subj)) +\n",
    "    #geom_point(aes(shape=v)) +\n",
    "    #geom_label_repel(aes(label = cf.dds$subj), show.legend=FALSE) +\n",
    "    geom_path(arrow=arrow()) +\n",
    "    xlab(paste0(\"PC1: \", percentVar[1], \"% variance\")) +\n",
    "    ylab(paste0(\"PC2: \", percentVar[2], \"% variance\")) +\n",
    "    coord_fixed() +\n",
    "    #scale_color_tableau(palette = 'Tableau 10') +\n",
    "    theme_classic()\n",
    "\n",
    "ggsave(file.path(sfig1.out.dir, \"sfig1a.png\"), height=3, width=3, dpi=300, unit='in')\n",
    "ggsave(file.path(sfig1.out.dir, \"sfig1a.svg\"), height=3, width=3, dpi=300, unit='in')"
   ]
  },
  {
   "cell_type": "code",
   "execution_count": 19,
   "id": "818854f4",
   "metadata": {},
   "outputs": [
    {
     "name": "stderr",
     "output_type": "stream",
     "text": [
      "using 'avgTxLength' from assays(dds), correcting for library size\n",
      "\n",
      "Warning message:\n",
      "“\u001b[1m\u001b[22m`aes_string()` was deprecated in ggplot2 3.0.0.\n",
      "\u001b[36mℹ\u001b[39m Please use tidy evaluation idioms with `aes()`.\n",
      "\u001b[36mℹ\u001b[39m See also `vignette(\"ggplot2-in-packages\")` for more information.”\n"
     ]
    }
   ],
   "source": [
    "sfig1.d.manual <- plotPCA_manual(\n",
    "                                vst(sfig1.dds),\n",
    "                                intgroup=c(\"v\", \"subj\"),\n",
    "                                ntop=500,\n",
    "                                pcs=10\n",
    "                                )\n",
    "percentVar <- round(100 * attr(sfig1.d.manual$data, \"percentVar\"))"
   ]
  },
  {
   "cell_type": "code",
   "execution_count": 20,
   "id": "d6fabd9c",
   "metadata": {},
   "outputs": [],
   "source": [
    "loadings <- data.frame(sfig1.d.manual$pca$rotation)\n",
    "genes <- rownames(loadings)"
   ]
  },
  {
   "cell_type": "code",
   "execution_count": 21,
   "id": "51eeddf7",
   "metadata": {},
   "outputs": [
    {
     "name": "stdout",
     "output_type": "stream",
     "text": [
      "[1] \"PC1: 30 % variance\"\n",
      "[1] \"OMG  ( -0.1022 ), SNTN  ( -0.1003 ), CFAP43  ( -0.098 ), CIMAP3  ( -0.0955 ), LRRIQ1  ( -0.0947 ), ENSG00000258752  ( -0.0929 ), FAM216B  ( -0.0927 ), CAPSL  ( -0.0923 ), CFAP95  ( -0.0898 ), CIMIP1  ( -0.0895 ), GSTA2  ( -0.0892 ), TSPAN19  ( -0.0886 ), DNAH12  ( -0.0882 ), CLXN  ( -0.0879 ), TPPP3  ( -0.0868 ), HOATZ  ( -0.0861 ), DNAAF4-CCPG1  ( -0.0859 ), SPMIP6  ( -0.0842 ), FAM81B  ( -0.0839 ), AKAP14  ( -0.0839 )\"\n",
      "[1] \"=========\"\n",
      "[1] \"PC2: 28 % variance\"\n",
      "[1] \"FCGR3B  ( -0.1256 ), BCL2A1  ( -0.115 ), OSM  ( -0.1089 ), CSF3R  ( -0.1087 ), MNDA  ( -0.1085 ), G0S2  ( -0.1083 ), SLC2A3  ( -0.1082 ), IL1B  ( -0.1081 ), SRGN  ( -0.108 ), CXCR1  ( -0.1076 ), TREM1  ( -0.1056 ), AQP9  ( -0.1048 ), FPR1  ( -0.1036 ), FFAR2  ( -0.0994 ), CXCL8  ( -0.0991 ), TNFRSF10C  ( -0.0968 ), CXCR2  ( -0.0965 ), CSF2RB  ( -0.0961 ), PROK2  ( -0.092 ), PLEK  ( -0.0905 )\"\n",
      "[1] \"=========\"\n",
      "[1] \"PC3: 10 % variance\"\n",
      "[1] \"XIST  ( -0.2306 ), RPS4Y1  ( 0.2116 ), DDX3Y  ( 0.1882 ), SPINK7  ( -0.156 ), EIF1AY  ( 0.1518 ), S100A7  ( -0.1506 ), CRNN  ( -0.148 ), SBSN  ( -0.1475 ), TMPRSS11B  ( -0.1302 ), KDM5D  ( 0.1296 ), RPTN  ( -0.1279 ), SPRR2E  ( -0.125 ), ENSG00000276345  ( -0.1247 ), TXLNGY  ( 0.1221 ), UTY  ( 0.121 ), USP9Y  ( 0.1201 ), KRT16  ( -0.1177 ), MAL  ( -0.1161 ), S100A8  ( -0.1142 ), CNFN  ( -0.1137 )\"\n",
      "[1] \"=========\"\n",
      "[1] \"PC4: 4 % variance\"\n",
      "[1] \"RNU1-27P  ( 0.2162 ), STATH  ( 0.1729 ), C6orf58  ( 0.1723 ), CRISP3  ( 0.1562 ), LTF  ( 0.1527 ), PRR4  ( 0.152 ), RNA5-8SN2  ( 0.1474 ), RNA5-8SN4  ( 0.1456 ), RNA5-8SN5  ( 0.1454 ), DMBT1  ( 0.1445 ), PRB3  ( 0.1425 ), EIF3CL  ( 0.1319 ), ENSG00000288534  ( -0.1313 ), KRT14  ( -0.1249 ), IGHG1  ( 0.1202 ), BARD1  ( -0.1185 ), BPIFB2  ( 0.1172 ), U2  ( 0.1136 ), PRB1  ( 0.1133 ), PRB4  ( 0.1092 )\"\n",
      "[1] \"=========\"\n",
      "[1] \"PC5: 4 % variance\"\n",
      "[1] \"RGPD5  ( -0.1754 ), ISY1-RAB43  ( 0.1721 ), PRB4  ( -0.1692 ), EIF3CL  ( 0.1665 ), ENSG00000213058  ( -0.1656 ), LINC01709  ( 0.1589 ), ENSG00000298396  ( 0.1579 ), UPK3BL2  ( -0.1549 ), ENSG00000310226  ( 0.154 ), ENSG00000224114  ( -0.1516 ), PRB3  ( -0.1503 ), STATH  ( -0.1472 ), KRT24  ( -0.1384 ), KLHDC7B  ( 0.1337 ), DMBT1  ( -0.1323 ), HLA-U  ( -0.128 ), C6orf58  ( -0.1278 ), PIP  ( -0.1253 ), PRB1  ( -0.1196 ), TPSB2  ( 0.1176 )\"\n",
      "[1] \"=========\"\n",
      "[1] \"PC6: 4 % variance\"\n",
      "[1] \"HBB  ( 0.2301 ), HBA2  ( 0.2273 ), HBA1  ( 0.189 ), BPIFA1  ( -0.182 ), MSMB  ( 0.1787 ), ENSG00000294455  ( 0.1579 ), F8A2  ( 0.1496 ), ENSG00000298932  ( 0.1428 ), ENSG00000310260  ( 0.1295 ), H2AC19  ( -0.1152 ), KCNT1  ( 0.1057 ), FCGBP  ( -0.1048 ), F8A3  ( -0.1032 ), EIF1AY  ( 0.1029 ), ENSG00000310226  ( 0.1018 ), XIST  ( -0.1011 ), H2AC18  ( 0.1001 ), COL3A1  ( 0.1001 ), TMPRSS11A  ( 0.0988 ), S100A8  ( 0.0986 )\"\n",
      "[1] \"=========\"\n",
      "[1] \"PC7: 3 % variance\"\n",
      "[1] \"RPL13P12  ( -0.1817 ), KRT24  ( -0.154 ), RNA5-8SN5  ( 0.1497 ), RNA5-8SN2  ( 0.1479 ), RNA5-8SN4  ( 0.1474 ), 5_8S_rRNA  ( 0.1446 ), HERC2P2  ( -0.1423 ), 5_8S_rRNA  ( 0.1419 ), 5_8S_rRNA  ( 0.1412 ), RNA5-8SN1  ( 0.1407 ), KRT13  ( -0.1339 ), ENSG00000310226  ( -0.1234 ), LINC01709  ( -0.1212 ), ENSG00000229732  ( -0.1201 ), HLA-L  ( -0.118 ), PLCXD1  ( 0.1101 ), DCC  ( -0.1061 ), FCGBP  ( 0.1038 ), NTS  ( -0.1024 ), SLC44A5  ( -0.1012 )\"\n",
      "[1] \"=========\"\n",
      "[1] \"PC8: 3 % variance\"\n",
      "[1] \"CXCL10  ( -0.1638 ), TBC1D3  ( 0.1623 ), KRT24  ( 0.1615 ), PLCB1  ( 0.1558 ), AMMECR1L  ( -0.1461 ), ISY1-RAB43  ( 0.1299 ), PKD1P5  ( -0.1276 ), CXCL11  ( -0.126 ), CLEC12A  ( -0.1203 ), RNA5-8SN3  ( 0.117 ), GBP5  ( -0.1159 ), KRTDAP  ( 0.1139 ), ENSG00000269711  ( 0.1131 ), KRT1  ( 0.1125 ), ENSG00000310260  ( -0.1106 ), ENSG00000289697  ( -0.1058 ), DMBT1  ( -0.1055 ), UGT2A2  ( 0.1038 ), C6orf58  ( -0.1031 ), CD177  ( -0.1029 )\"\n",
      "[1] \"=========\"\n",
      "[1] \"PC9: 2 % variance\"\n",
      "[1] \"KRT1  ( 0.1813 ), UNC13C  ( 0.1722 ), F8A2  ( -0.1641 ), RNA5S17  ( 0.1514 ), SVOP  ( -0.1505 ), HLA-L  ( -0.139 ), HLA-J  ( 0.1347 ), KRT8P36  ( 0.1337 ), LINC01709  ( -0.1324 ), EXOC6  ( 0.1303 ), ELOVL6  ( 0.1274 ), ENSG00000310226  ( -0.1243 ), PLCXD1  ( 0.1242 ), LCE3D  ( 0.1238 ), HLA-L  ( 0.123 ), CD177  ( -0.1183 ), BPIFA1  ( 0.117 ), LGALS7  ( 0.1112 ), ARX  ( -0.1107 ), ENSG00000285238  ( -0.1101 )\"\n",
      "[1] \"=========\"\n",
      "[1] \"PC10: 2 % variance\"\n",
      "[1] \"IL24  ( -0.1702 ), KCNT1  ( 0.1698 ), SMIM10L3  ( -0.1674 ), WASH6P  ( -0.1669 ), KCNJ13  ( 0.1531 ), CXCL10  ( -0.1418 ), CXCL9  ( -0.1345 ), HBB  ( -0.1343 ), HERC2P2  ( -0.1343 ), NUP93-DT  ( 0.1334 ), LINC01709  ( 0.1331 ), CXCL11  ( -0.1272 ), SLC6A15  ( 0.1247 ), HBA2  ( -0.124 ), HBA1  ( -0.1237 ), ENSG00000285723  ( -0.1201 ), WASH6P  ( 0.1162 ), PRB2  ( 0.1142 ), CEACAM1  ( -0.1139 ), ENSG00000310226  ( 0.1124 )\"\n",
      "[1] \"=========\"\n"
     ]
    }
   ],
   "source": [
    "for (i in 1:10) {\n",
    "    print(sprintf(\"PC%d: %d %% variance\", i, percentVar[i]))\n",
    "    l <- loadings[, i]\n",
    "    ord <- order (abs(l), decreasing=TRUE)\n",
    "    g <- genes[ord][1:20]\n",
    "    v <- paste(tx2gene[match(g, tx2gene$GENEID), ]$GENENAME, \" (\", round(l[ord][1:20], 4), \")\")\n",
    "    print(paste(v, collapse=\", \"))\n",
    "    print(\"=========\")\n",
    "}"
   ]
  },
  {
   "cell_type": "code",
   "execution_count": 22,
   "id": "c00587a6",
   "metadata": {},
   "outputs": [
    {
     "name": "stderr",
     "output_type": "stream",
     "text": [
      "estimating size factors\n",
      "\n",
      "using 'avgTxLength' from assays(dds), correcting for library size\n",
      "\n",
      "estimating dispersions\n",
      "\n",
      "gene-wise dispersion estimates\n",
      "\n",
      "mean-dispersion relationship\n",
      "\n",
      "final dispersion estimates\n",
      "\n",
      "fitting model and testing\n",
      "\n"
     ]
    }
   ],
   "source": [
    "sfig1.dds <- DESeq(sfig1.dds)"
   ]
  },
  {
   "cell_type": "code",
   "execution_count": 23,
   "id": "b45064ff",
   "metadata": {},
   "outputs": [],
   "source": [
    "v2.vs.v1 <- as.data.frame(results(sfig1.dds, contrast=c(\"v\", \"V2\", \"V1\")))\n",
    "v2.vs.v1 <- v2.vs.v1[!is.na(v2.vs.v1$padj), ]\n",
    "v2.vs.v1$sign <- \"\"\n",
    "v2.vs.v1$sign[(v2.vs.v1$log2FoldChange < 0) & (v2.vs.v1$padj < 0.05)] <- \"Down\"\n",
    "v2.vs.v1$sign[(v2.vs.v1$log2FoldChange > 0) & (v2.vs.v1$padj < 0.05)] <- \"Up\"\n",
    "v2.vs.v1 <- v2.vs.v1[order(v2.vs.v1$sign), ]\n",
    "\n",
    "v2.vs.v1$GENENAME <- tx2gene[match(row.names(v2.vs.v1), tx2gene$GENEID), ]$GENENAME"
   ]
  },
  {
   "cell_type": "code",
   "execution_count": 24,
   "id": "06af9795",
   "metadata": {
    "scrolled": false
   },
   "outputs": [
    {
     "data": {
      "text/html": [
       "<table class=\"dataframe\">\n",
       "<caption>A data.frame: 13 × 8</caption>\n",
       "<thead>\n",
       "\t<tr><th></th><th scope=col>baseMean</th><th scope=col>log2FoldChange</th><th scope=col>lfcSE</th><th scope=col>stat</th><th scope=col>pvalue</th><th scope=col>padj</th><th scope=col>sign</th><th scope=col>GENENAME</th></tr>\n",
       "\t<tr><th></th><th scope=col>&lt;dbl&gt;</th><th scope=col>&lt;dbl&gt;</th><th scope=col>&lt;dbl&gt;</th><th scope=col>&lt;dbl&gt;</th><th scope=col>&lt;dbl&gt;</th><th scope=col>&lt;dbl&gt;</th><th scope=col>&lt;chr&gt;</th><th scope=col>&lt;chr&gt;</th></tr>\n",
       "</thead>\n",
       "<tbody>\n",
       "\t<tr><th scope=row>ENSG00000067955</th><td> 873.66129</td><td>-0.4961436</td><td>0.1169342</td><td>-4.242929</td><td>2.206212e-05</td><td>0.0415243030</td><td>Down</td><td>CBFB           </td></tr>\n",
       "\t<tr><th scope=row>ENSG00000173852</th><td> 718.92870</td><td>-1.7481823</td><td>0.3108405</td><td>-5.624049</td><td>1.865327e-08</td><td>0.0004564082</td><td>Down</td><td>DPY19L1        </td></tr>\n",
       "\t<tr><th scope=row>ENSG00000256349</th><td>  68.60871</td><td>-7.4289384</td><td>1.4709409</td><td>-5.050467</td><td>4.407315e-07</td><td>0.0026959544</td><td>Down</td><td>ENSG00000256349</td></tr>\n",
       "\t<tr><th scope=row>ENSG00000291214</th><td> 166.04912</td><td>-0.7981875</td><td>0.1868568</td><td>-4.271653</td><td>1.940296e-05</td><td>0.0395626342</td><td>Down</td><td>ENSG00000291214</td></tr>\n",
       "\t<tr><th scope=row>ENSG00000105255</th><td>  10.45679</td><td> 3.4527629</td><td>0.7824924</td><td> 4.412520</td><td>1.021745e-05</td><td>0.0312500779</td><td>Up  </td><td>FSD1           </td></tr>\n",
       "\t<tr><th scope=row>ENSG00000146205</th><td>  52.14620</td><td> 1.6964001</td><td>0.3921021</td><td> 4.326424</td><td>1.515494e-05</td><td>0.0362388350</td><td>Up  </td><td>ANO7           </td></tr>\n",
       "\t<tr><th scope=row>ENSG00000185658</th><td>1777.48685</td><td> 1.3376503</td><td>0.2886573</td><td> 4.634042</td><td>3.585937e-06</td><td>0.0170223661</td><td>Up  </td><td>BRWD1          </td></tr>\n",
       "\t<tr><th scope=row>ENSG00000196361</th><td>  27.70490</td><td> 2.2496562</td><td>0.5138482</td><td> 4.378056</td><td>1.197426e-05</td><td>0.0325540141</td><td>Up  </td><td>ELAVL3         </td></tr>\n",
       "\t<tr><th scope=row>ENSG00000204291</th><td>  53.26098</td><td> 2.8440695</td><td>0.6598070</td><td> 4.310457</td><td>1.629178e-05</td><td>0.0362388350</td><td>Up  </td><td>COL15A1        </td></tr>\n",
       "\t<tr><th scope=row>ENSG00000206596</th><td> 111.18468</td><td>11.5225222</td><td>2.5684607</td><td> 4.486159</td><td>7.251873e-06</td><td>0.0253484024</td><td>Up  </td><td>RNU1-27P       </td></tr>\n",
       "\t<tr><th scope=row>ENSG00000302140</th><td>  19.83602</td><td> 3.8134795</td><td>0.7488081</td><td> 5.092733</td><td>3.529388e-07</td><td>0.0026959544</td><td>Up  </td><td>ENSG00000302140</td></tr>\n",
       "\t<tr><th scope=row>ENSG00000305893</th><td>  21.46174</td><td> 4.8539338</td><td>0.9335765</td><td> 5.199289</td><td>2.000525e-07</td><td>0.0024474419</td><td>Up  </td><td>ENSG00000305893</td></tr>\n",
       "\t<tr><th scope=row>ENSG00000308028</th><td>  16.84914</td><td> 4.0017574</td><td>0.8694719</td><td> 4.602515</td><td>4.174195e-06</td><td>0.0170223661</td><td>Up  </td><td>ENSG00000308028</td></tr>\n",
       "</tbody>\n",
       "</table>\n"
      ],
      "text/latex": [
       "A data.frame: 13 × 8\n",
       "\\begin{tabular}{r|llllllll}\n",
       "  & baseMean & log2FoldChange & lfcSE & stat & pvalue & padj & sign & GENENAME\\\\\n",
       "  & <dbl> & <dbl> & <dbl> & <dbl> & <dbl> & <dbl> & <chr> & <chr>\\\\\n",
       "\\hline\n",
       "\tENSG00000067955 &  873.66129 & -0.4961436 & 0.1169342 & -4.242929 & 2.206212e-05 & 0.0415243030 & Down & CBFB           \\\\\n",
       "\tENSG00000173852 &  718.92870 & -1.7481823 & 0.3108405 & -5.624049 & 1.865327e-08 & 0.0004564082 & Down & DPY19L1        \\\\\n",
       "\tENSG00000256349 &   68.60871 & -7.4289384 & 1.4709409 & -5.050467 & 4.407315e-07 & 0.0026959544 & Down & ENSG00000256349\\\\\n",
       "\tENSG00000291214 &  166.04912 & -0.7981875 & 0.1868568 & -4.271653 & 1.940296e-05 & 0.0395626342 & Down & ENSG00000291214\\\\\n",
       "\tENSG00000105255 &   10.45679 &  3.4527629 & 0.7824924 &  4.412520 & 1.021745e-05 & 0.0312500779 & Up   & FSD1           \\\\\n",
       "\tENSG00000146205 &   52.14620 &  1.6964001 & 0.3921021 &  4.326424 & 1.515494e-05 & 0.0362388350 & Up   & ANO7           \\\\\n",
       "\tENSG00000185658 & 1777.48685 &  1.3376503 & 0.2886573 &  4.634042 & 3.585937e-06 & 0.0170223661 & Up   & BRWD1          \\\\\n",
       "\tENSG00000196361 &   27.70490 &  2.2496562 & 0.5138482 &  4.378056 & 1.197426e-05 & 0.0325540141 & Up   & ELAVL3         \\\\\n",
       "\tENSG00000204291 &   53.26098 &  2.8440695 & 0.6598070 &  4.310457 & 1.629178e-05 & 0.0362388350 & Up   & COL15A1        \\\\\n",
       "\tENSG00000206596 &  111.18468 & 11.5225222 & 2.5684607 &  4.486159 & 7.251873e-06 & 0.0253484024 & Up   & RNU1-27P       \\\\\n",
       "\tENSG00000302140 &   19.83602 &  3.8134795 & 0.7488081 &  5.092733 & 3.529388e-07 & 0.0026959544 & Up   & ENSG00000302140\\\\\n",
       "\tENSG00000305893 &   21.46174 &  4.8539338 & 0.9335765 &  5.199289 & 2.000525e-07 & 0.0024474419 & Up   & ENSG00000305893\\\\\n",
       "\tENSG00000308028 &   16.84914 &  4.0017574 & 0.8694719 &  4.602515 & 4.174195e-06 & 0.0170223661 & Up   & ENSG00000308028\\\\\n",
       "\\end{tabular}\n"
      ],
      "text/markdown": [
       "\n",
       "A data.frame: 13 × 8\n",
       "\n",
       "| <!--/--> | baseMean &lt;dbl&gt; | log2FoldChange &lt;dbl&gt; | lfcSE &lt;dbl&gt; | stat &lt;dbl&gt; | pvalue &lt;dbl&gt; | padj &lt;dbl&gt; | sign &lt;chr&gt; | GENENAME &lt;chr&gt; |\n",
       "|---|---|---|---|---|---|---|---|---|\n",
       "| ENSG00000067955 |  873.66129 | -0.4961436 | 0.1169342 | -4.242929 | 2.206212e-05 | 0.0415243030 | Down | CBFB            |\n",
       "| ENSG00000173852 |  718.92870 | -1.7481823 | 0.3108405 | -5.624049 | 1.865327e-08 | 0.0004564082 | Down | DPY19L1         |\n",
       "| ENSG00000256349 |   68.60871 | -7.4289384 | 1.4709409 | -5.050467 | 4.407315e-07 | 0.0026959544 | Down | ENSG00000256349 |\n",
       "| ENSG00000291214 |  166.04912 | -0.7981875 | 0.1868568 | -4.271653 | 1.940296e-05 | 0.0395626342 | Down | ENSG00000291214 |\n",
       "| ENSG00000105255 |   10.45679 |  3.4527629 | 0.7824924 |  4.412520 | 1.021745e-05 | 0.0312500779 | Up   | FSD1            |\n",
       "| ENSG00000146205 |   52.14620 |  1.6964001 | 0.3921021 |  4.326424 | 1.515494e-05 | 0.0362388350 | Up   | ANO7            |\n",
       "| ENSG00000185658 | 1777.48685 |  1.3376503 | 0.2886573 |  4.634042 | 3.585937e-06 | 0.0170223661 | Up   | BRWD1           |\n",
       "| ENSG00000196361 |   27.70490 |  2.2496562 | 0.5138482 |  4.378056 | 1.197426e-05 | 0.0325540141 | Up   | ELAVL3          |\n",
       "| ENSG00000204291 |   53.26098 |  2.8440695 | 0.6598070 |  4.310457 | 1.629178e-05 | 0.0362388350 | Up   | COL15A1         |\n",
       "| ENSG00000206596 |  111.18468 | 11.5225222 | 2.5684607 |  4.486159 | 7.251873e-06 | 0.0253484024 | Up   | RNU1-27P        |\n",
       "| ENSG00000302140 |   19.83602 |  3.8134795 | 0.7488081 |  5.092733 | 3.529388e-07 | 0.0026959544 | Up   | ENSG00000302140 |\n",
       "| ENSG00000305893 |   21.46174 |  4.8539338 | 0.9335765 |  5.199289 | 2.000525e-07 | 0.0024474419 | Up   | ENSG00000305893 |\n",
       "| ENSG00000308028 |   16.84914 |  4.0017574 | 0.8694719 |  4.602515 | 4.174195e-06 | 0.0170223661 | Up   | ENSG00000308028 |\n",
       "\n"
      ],
      "text/plain": [
       "                baseMean   log2FoldChange lfcSE     stat      pvalue      \n",
       "ENSG00000067955  873.66129 -0.4961436     0.1169342 -4.242929 2.206212e-05\n",
       "ENSG00000173852  718.92870 -1.7481823     0.3108405 -5.624049 1.865327e-08\n",
       "ENSG00000256349   68.60871 -7.4289384     1.4709409 -5.050467 4.407315e-07\n",
       "ENSG00000291214  166.04912 -0.7981875     0.1868568 -4.271653 1.940296e-05\n",
       "ENSG00000105255   10.45679  3.4527629     0.7824924  4.412520 1.021745e-05\n",
       "ENSG00000146205   52.14620  1.6964001     0.3921021  4.326424 1.515494e-05\n",
       "ENSG00000185658 1777.48685  1.3376503     0.2886573  4.634042 3.585937e-06\n",
       "ENSG00000196361   27.70490  2.2496562     0.5138482  4.378056 1.197426e-05\n",
       "ENSG00000204291   53.26098  2.8440695     0.6598070  4.310457 1.629178e-05\n",
       "ENSG00000206596  111.18468 11.5225222     2.5684607  4.486159 7.251873e-06\n",
       "ENSG00000302140   19.83602  3.8134795     0.7488081  5.092733 3.529388e-07\n",
       "ENSG00000305893   21.46174  4.8539338     0.9335765  5.199289 2.000525e-07\n",
       "ENSG00000308028   16.84914  4.0017574     0.8694719  4.602515 4.174195e-06\n",
       "                padj         sign GENENAME       \n",
       "ENSG00000067955 0.0415243030 Down CBFB           \n",
       "ENSG00000173852 0.0004564082 Down DPY19L1        \n",
       "ENSG00000256349 0.0026959544 Down ENSG00000256349\n",
       "ENSG00000291214 0.0395626342 Down ENSG00000291214\n",
       "ENSG00000105255 0.0312500779 Up   FSD1           \n",
       "ENSG00000146205 0.0362388350 Up   ANO7           \n",
       "ENSG00000185658 0.0170223661 Up   BRWD1          \n",
       "ENSG00000196361 0.0325540141 Up   ELAVL3         \n",
       "ENSG00000204291 0.0362388350 Up   COL15A1        \n",
       "ENSG00000206596 0.0253484024 Up   RNU1-27P       \n",
       "ENSG00000302140 0.0026959544 Up   ENSG00000302140\n",
       "ENSG00000305893 0.0024474419 Up   ENSG00000305893\n",
       "ENSG00000308028 0.0170223661 Up   ENSG00000308028"
      ]
     },
     "metadata": {},
     "output_type": "display_data"
    }
   ],
   "source": [
    "v2.vs.v1[v2.vs.v1$padj < 0.05, ]"
   ]
  },
  {
   "cell_type": "code",
   "execution_count": 25,
   "id": "e7a8e630",
   "metadata": {
    "scrolled": false
   },
   "outputs": [
    {
     "name": "stderr",
     "output_type": "stream",
     "text": [
      "Warning message:\n",
      "“ggrepel: 8 unlabeled data points (too many overlaps). Consider increasing max.overlaps”\n",
      "Warning message:\n",
      "“ggrepel: 8 unlabeled data points (too many overlaps). Consider increasing max.overlaps”\n"
     ]
    },
    {
     "data": {
      "image/png": "[encoded data removed]",
      "text/plain": [
       "plot without title"
      ]
     },
     "metadata": {
      "image/png": {
       "height": 420,
       "width": 420
      }
     },
     "output_type": "display_data"
    }
   ],
   "source": [
    "ggplot(v2.vs.v1, aes(x=baseMean, y=log2FoldChange)) +\n",
    "    geom_point(aes(fill=sign, color=sign), stroke=0.5) +\n",
    "    # ylim(-10, 10)\n",
    "    geom_label_repel(\n",
    "        aes(label = GENENAME, fontface = \"italic\"), \n",
    "        data = v2.vs.v1[v2.vs.v1$padj < 0.05, ],\n",
    "        box.padding = 0.5,\n",
    "        seed = 5000,\n",
    "    ) +\n",
    "    scale_x_log10() +\n",
    "    scale_color_manual(values = c(\"gray\", \"darkred\", \"blue\"), name = \"Significance\", labels = c(\"Not significant\", \"Downregulated\", \"Upregulated\")) +\n",
    "    scale_fill_manual(values = c(\"gray\", \"darkred\", \"blue\"), name = \"Significance\", labels = c(\"Not significant\", \"Downregulated\", \"Upregulated\")) + \n",
    "    annotate(\"text\", x = 6e+04, y = 5, label = sprintf(\"Up in V2: %d\", sum(v2.vs.v1$sign == \"Up\"))) +\n",
    "    annotate(\"text\", x = 6e+04, y = -6, label = sprintf(\"Up in V1: %d\", sum(v2.vs.v1$sign == \"Down\"))) +\n",
    "    theme_classic()\n",
    "\n",
    "ggsave(file.path(sfig1.out.dir, \"sfig1b.png\"), height=3, width=4.5, dpi=300, unit='in')\n",
    "ggsave(file.path(sfig1.out.dir, \"sfig1b.svg\"), height=3, width=4.5, dpi=300, unit='in')"
   ]
  },
  {
   "cell_type": "code",
   "execution_count": 27,
   "id": "0386f41b",
   "metadata": {},
   "outputs": [
    {
     "data": {
      "image/png": "[encoded data removed]",
      "text/plain": [
       "Plot with title “ENSG00000206596”"
      ]
     },
     "metadata": {
      "image/png": {
       "height": 420,
       "width": 420
      }
     },
     "output_type": "display_data"
    }
   ],
   "source": [
    "#RNU1-27P\n",
    "plotCounts(sfig1.dds, gene=\"ENSG00000206596\", intgroup=\"v\")"
   ]
  },
  {
   "cell_type": "code",
   "execution_count": null,
   "id": "3dcd0f70",
   "metadata": {},
   "outputs": [],
   "source": []
  }
 ],
 "metadata": {
  "kernelspec": {
   "display_name": "cfn_final_R",
   "language": "R",
   "name": "cfn_final_r"
  },
  "language_info": {
   "codemirror_mode": "r",
   "file_extension": ".r",
   "mimetype": "text/x-r-source",
   "name": "R",
   "pygments_lexer": "r",
   "version": "4.2.3"
  }
 },
 "nbformat": 4,
 "nbformat_minor": 5
}
